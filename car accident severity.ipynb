{
 "cells": [
  {
   "cell_type": "code",
   "execution_count": 1,
   "metadata": {},
   "outputs": [
    {
     "name": "stdout",
     "output_type": "stream",
     "text": [
      "Hello this notebook is about Introduction/Business Problem description!\n"
     ]
    }
   ],
   "source": [
    "print(\"Hello this notebook is about Introduction/Business Problem description!\")"
   ]
  },
  {
   "cell_type": "markdown",
   "metadata": {},
   "source": [
    "## The problem is that there are too many car accidents. I would like to find out using data science what the main causes of the accidents are, how likely is it for someone to get in a car accident and how severe it is likely to be.\n"
   ]
  },
  {
   "cell_type": "markdown",
   "metadata": {},
   "source": [
    "## The analysis aims to help people that need to travel by car because they could estimate the probability of an accident based on factors such as weather condition, time of day, day of the week, season etc. Knowing the probability would help them decide if the travel is worth it or they can use other types of transit/choose not to travel."
   ]
  },
  {
   "cell_type": "markdown",
   "metadata": {},
   "source": [
    "## The government agency responsible for the roads would also benefit because the analysis might help in preventing accidents by uncovering places where it is most likely that an accident will happen. With this knowledge it would be easier to implement safety measures to reduce/prevent accidents from happening or even just reduce their severity in the future"
   ]
  }
 ],
 "metadata": {
  "kernelspec": {
   "display_name": "Python 3",
   "language": "python",
   "name": "python3"
  },
  "language_info": {
   "codemirror_mode": {
    "name": "ipython",
    "version": 3
   },
   "file_extension": ".py",
   "mimetype": "text/x-python",
   "name": "python",
   "nbconvert_exporter": "python",
   "pygments_lexer": "ipython3",
   "version": "3.8.5"
  }
 },
 "nbformat": 4,
 "nbformat_minor": 4
}
