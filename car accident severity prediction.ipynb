{
 "cells": [
  {
   "cell_type": "code",
   "execution_count": 30,
   "metadata": {},
   "outputs": [],
   "source": [
    "import numpy as np\n",
    "import pandas as pd \n",
    "import seaborn as sns\n",
    "from matplotlib import pyplot as plt\n",
    "from matplotlib import style"
   ]
  },
  {
   "cell_type": "markdown",
   "metadata": {},
   "source": [
    "# Import Data"
   ]
  },
  {
   "cell_type": "code",
   "execution_count": 31,
   "metadata": {},
   "outputs": [],
   "source": [
    "users_df = pd.read_csv(r'C:\\Users\\Personal\\Downloads\\data science\\datasets\\users.csv')"
   ]
  },
  {
   "cell_type": "code",
   "execution_count": 32,
   "metadata": {},
   "outputs": [
    {
     "name": "stderr",
     "output_type": "stream",
     "text": [
      "c:\\python\\python3.8.5\\lib\\site-packages\\IPython\\core\\interactiveshell.py:3145: DtypeWarning: Columns (2) have mixed types.Specify dtype option on import or set low_memory=False.\n",
      "  has_raised = await self.run_ast_nodes(code_ast.body, cell_name,\n"
     ]
    }
   ],
   "source": [
    "places_df = pd.read_csv(r'C:\\Users\\Personal\\Downloads\\data science\\datasets\\places.csv')"
   ]
  },
  {
   "cell_type": "code",
   "execution_count": 34,
   "metadata": {},
   "outputs": [
    {
     "name": "stderr",
     "output_type": "stream",
     "text": [
      "c:\\python\\python3.8.5\\lib\\site-packages\\IPython\\core\\interactiveshell.py:3145: DtypeWarning: Columns (14) have mixed types.Specify dtype option on import or set low_memory=False.\n",
      "  has_raised = await self.run_ast_nodes(code_ast.body, cell_name,\n"
     ]
    }
   ],
   "source": [
    "caracteristics_df = pd.read_csv(r'C:\\Users\\Personal\\Downloads\\data science\\datasets\\caracteristics.csv', encoding=\"latin-1\")"
   ]
  },
  {
   "cell_type": "code",
   "execution_count": 35,
   "metadata": {},
   "outputs": [
    {
     "data": {
      "text/html": [
       "<div>\n",
       "<style scoped>\n",
       "    .dataframe tbody tr th:only-of-type {\n",
       "        vertical-align: middle;\n",
       "    }\n",
       "\n",
       "    .dataframe tbody tr th {\n",
       "        vertical-align: top;\n",
       "    }\n",
       "\n",
       "    .dataframe thead th {\n",
       "        text-align: right;\n",
       "    }\n",
       "</style>\n",
       "<table border=\"1\" class=\"dataframe\">\n",
       "  <thead>\n",
       "    <tr style=\"text-align: right;\">\n",
       "      <th></th>\n",
       "      <th>Num_Acc</th>\n",
       "      <th>place</th>\n",
       "      <th>catu</th>\n",
       "      <th>grav</th>\n",
       "      <th>sexe</th>\n",
       "      <th>trajet</th>\n",
       "      <th>secu</th>\n",
       "      <th>locp</th>\n",
       "      <th>actp</th>\n",
       "      <th>etatp</th>\n",
       "      <th>an_nais</th>\n",
       "    </tr>\n",
       "  </thead>\n",
       "  <tbody>\n",
       "    <tr>\n",
       "      <th>count</th>\n",
       "      <td>1.876005e+06</td>\n",
       "      <td>1.775639e+06</td>\n",
       "      <td>1.876005e+06</td>\n",
       "      <td>1.876005e+06</td>\n",
       "      <td>1.876005e+06</td>\n",
       "      <td>1.875636e+06</td>\n",
       "      <td>1.832547e+06</td>\n",
       "      <td>1.874341e+06</td>\n",
       "      <td>1.874232e+06</td>\n",
       "      <td>1.874299e+06</td>\n",
       "      <td>1.873654e+06</td>\n",
       "    </tr>\n",
       "    <tr>\n",
       "      <th>mean</th>\n",
       "      <td>2.009992e+11</td>\n",
       "      <td>1.283953e+00</td>\n",
       "      <td>1.341410e+00</td>\n",
       "      <td>2.513080e+00</td>\n",
       "      <td>1.328885e+00</td>\n",
       "      <td>3.075555e+00</td>\n",
       "      <td>1.822304e+01</td>\n",
       "      <td>2.242522e-01</td>\n",
       "      <td>2.762860e-01</td>\n",
       "      <td>1.023823e-01</td>\n",
       "      <td>1.972682e+03</td>\n",
       "    </tr>\n",
       "    <tr>\n",
       "      <th>std</th>\n",
       "      <td>3.464316e+08</td>\n",
       "      <td>9.058402e-01</td>\n",
       "      <td>6.334311e-01</td>\n",
       "      <td>1.332745e+00</td>\n",
       "      <td>4.698081e-01</td>\n",
       "      <td>2.676239e+00</td>\n",
       "      <td>1.977354e+01</td>\n",
       "      <td>8.722973e-01</td>\n",
       "      <td>1.051576e+00</td>\n",
       "      <td>3.800489e-01</td>\n",
       "      <td>1.834448e+01</td>\n",
       "    </tr>\n",
       "    <tr>\n",
       "      <th>min</th>\n",
       "      <td>2.005000e+11</td>\n",
       "      <td>0.000000e+00</td>\n",
       "      <td>1.000000e+00</td>\n",
       "      <td>1.000000e+00</td>\n",
       "      <td>1.000000e+00</td>\n",
       "      <td>0.000000e+00</td>\n",
       "      <td>0.000000e+00</td>\n",
       "      <td>0.000000e+00</td>\n",
       "      <td>0.000000e+00</td>\n",
       "      <td>0.000000e+00</td>\n",
       "      <td>1.896000e+03</td>\n",
       "    </tr>\n",
       "    <tr>\n",
       "      <th>25%</th>\n",
       "      <td>2.007000e+11</td>\n",
       "      <td>1.000000e+00</td>\n",
       "      <td>1.000000e+00</td>\n",
       "      <td>1.000000e+00</td>\n",
       "      <td>1.000000e+00</td>\n",
       "      <td>0.000000e+00</td>\n",
       "      <td>1.100000e+01</td>\n",
       "      <td>0.000000e+00</td>\n",
       "      <td>0.000000e+00</td>\n",
       "      <td>0.000000e+00</td>\n",
       "      <td>1.961000e+03</td>\n",
       "    </tr>\n",
       "    <tr>\n",
       "      <th>50%</th>\n",
       "      <td>2.010000e+11</td>\n",
       "      <td>1.000000e+00</td>\n",
       "      <td>1.000000e+00</td>\n",
       "      <td>3.000000e+00</td>\n",
       "      <td>1.000000e+00</td>\n",
       "      <td>4.000000e+00</td>\n",
       "      <td>1.100000e+01</td>\n",
       "      <td>0.000000e+00</td>\n",
       "      <td>0.000000e+00</td>\n",
       "      <td>0.000000e+00</td>\n",
       "      <td>1.976000e+03</td>\n",
       "    </tr>\n",
       "    <tr>\n",
       "      <th>75%</th>\n",
       "      <td>2.013000e+11</td>\n",
       "      <td>1.000000e+00</td>\n",
       "      <td>2.000000e+00</td>\n",
       "      <td>4.000000e+00</td>\n",
       "      <td>2.000000e+00</td>\n",
       "      <td>5.000000e+00</td>\n",
       "      <td>2.100000e+01</td>\n",
       "      <td>0.000000e+00</td>\n",
       "      <td>0.000000e+00</td>\n",
       "      <td>0.000000e+00</td>\n",
       "      <td>1.987000e+03</td>\n",
       "    </tr>\n",
       "    <tr>\n",
       "      <th>max</th>\n",
       "      <td>2.016001e+11</td>\n",
       "      <td>9.000000e+00</td>\n",
       "      <td>4.000000e+00</td>\n",
       "      <td>4.000000e+00</td>\n",
       "      <td>2.000000e+00</td>\n",
       "      <td>9.000000e+00</td>\n",
       "      <td>9.300000e+01</td>\n",
       "      <td>8.000000e+00</td>\n",
       "      <td>9.000000e+00</td>\n",
       "      <td>3.000000e+00</td>\n",
       "      <td>2.016000e+03</td>\n",
       "    </tr>\n",
       "  </tbody>\n",
       "</table>\n",
       "</div>"
      ],
      "text/plain": [
       "            Num_Acc         place          catu          grav          sexe  \\\n",
       "count  1.876005e+06  1.775639e+06  1.876005e+06  1.876005e+06  1.876005e+06   \n",
       "mean   2.009992e+11  1.283953e+00  1.341410e+00  2.513080e+00  1.328885e+00   \n",
       "std    3.464316e+08  9.058402e-01  6.334311e-01  1.332745e+00  4.698081e-01   \n",
       "min    2.005000e+11  0.000000e+00  1.000000e+00  1.000000e+00  1.000000e+00   \n",
       "25%    2.007000e+11  1.000000e+00  1.000000e+00  1.000000e+00  1.000000e+00   \n",
       "50%    2.010000e+11  1.000000e+00  1.000000e+00  3.000000e+00  1.000000e+00   \n",
       "75%    2.013000e+11  1.000000e+00  2.000000e+00  4.000000e+00  2.000000e+00   \n",
       "max    2.016001e+11  9.000000e+00  4.000000e+00  4.000000e+00  2.000000e+00   \n",
       "\n",
       "             trajet          secu          locp          actp         etatp  \\\n",
       "count  1.875636e+06  1.832547e+06  1.874341e+06  1.874232e+06  1.874299e+06   \n",
       "mean   3.075555e+00  1.822304e+01  2.242522e-01  2.762860e-01  1.023823e-01   \n",
       "std    2.676239e+00  1.977354e+01  8.722973e-01  1.051576e+00  3.800489e-01   \n",
       "min    0.000000e+00  0.000000e+00  0.000000e+00  0.000000e+00  0.000000e+00   \n",
       "25%    0.000000e+00  1.100000e+01  0.000000e+00  0.000000e+00  0.000000e+00   \n",
       "50%    4.000000e+00  1.100000e+01  0.000000e+00  0.000000e+00  0.000000e+00   \n",
       "75%    5.000000e+00  2.100000e+01  0.000000e+00  0.000000e+00  0.000000e+00   \n",
       "max    9.000000e+00  9.300000e+01  8.000000e+00  9.000000e+00  3.000000e+00   \n",
       "\n",
       "            an_nais  \n",
       "count  1.873654e+06  \n",
       "mean   1.972682e+03  \n",
       "std    1.834448e+01  \n",
       "min    1.896000e+03  \n",
       "25%    1.961000e+03  \n",
       "50%    1.976000e+03  \n",
       "75%    1.987000e+03  \n",
       "max    2.016000e+03  "
      ]
     },
     "execution_count": 35,
     "metadata": {},
     "output_type": "execute_result"
    }
   ],
   "source": [
    "users_df.describe()"
   ]
  },
  {
   "cell_type": "code",
   "execution_count": 36,
   "metadata": {},
   "outputs": [
    {
     "name": "stdout",
     "output_type": "stream",
     "text": [
      "<class 'pandas.core.frame.DataFrame'>\n",
      "RangeIndex: 1876005 entries, 0 to 1876004\n",
      "Data columns (total 12 columns):\n",
      " #   Column   Dtype  \n",
      "---  ------   -----  \n",
      " 0   Num_Acc  int64  \n",
      " 1   place    float64\n",
      " 2   catu     int64  \n",
      " 3   grav     int64  \n",
      " 4   sexe     int64  \n",
      " 5   trajet   float64\n",
      " 6   secu     float64\n",
      " 7   locp     float64\n",
      " 8   actp     float64\n",
      " 9   etatp    float64\n",
      " 10  an_nais  float64\n",
      " 11  num_veh  object \n",
      "dtypes: float64(7), int64(4), object(1)\n",
      "memory usage: 164.6+ MB\n"
     ]
    }
   ],
   "source": [
    "users_df.info()"
   ]
  },
  {
   "cell_type": "code",
   "execution_count": 37,
   "metadata": {},
   "outputs": [
    {
     "data": {
      "text/html": [
       "<div>\n",
       "<style scoped>\n",
       "    .dataframe tbody tr th:only-of-type {\n",
       "        vertical-align: middle;\n",
       "    }\n",
       "\n",
       "    .dataframe tbody tr th {\n",
       "        vertical-align: top;\n",
       "    }\n",
       "\n",
       "    .dataframe thead th {\n",
       "        text-align: right;\n",
       "    }\n",
       "</style>\n",
       "<table border=\"1\" class=\"dataframe\">\n",
       "  <thead>\n",
       "    <tr style=\"text-align: right;\">\n",
       "      <th></th>\n",
       "      <th>Num_Acc</th>\n",
       "      <th>catr</th>\n",
       "      <th>v1</th>\n",
       "      <th>circ</th>\n",
       "      <th>nbv</th>\n",
       "      <th>pr</th>\n",
       "      <th>pr1</th>\n",
       "      <th>vosp</th>\n",
       "      <th>prof</th>\n",
       "      <th>plan</th>\n",
       "      <th>lartpc</th>\n",
       "      <th>larrout</th>\n",
       "      <th>surf</th>\n",
       "      <th>infra</th>\n",
       "      <th>situ</th>\n",
       "      <th>env1</th>\n",
       "    </tr>\n",
       "  </thead>\n",
       "  <tbody>\n",
       "    <tr>\n",
       "      <th>count</th>\n",
       "      <td>8.399850e+05</td>\n",
       "      <td>839984.000000</td>\n",
       "      <td>332816.000000</td>\n",
       "      <td>839187.000000</td>\n",
       "      <td>838195.000000</td>\n",
       "      <td>414770.000000</td>\n",
       "      <td>413463.000000</td>\n",
       "      <td>838345.000000</td>\n",
       "      <td>838924.000000</td>\n",
       "      <td>838909.000000</td>\n",
       "      <td>830440.000000</td>\n",
       "      <td>831706.000000</td>\n",
       "      <td>838968.000000</td>\n",
       "      <td>838707.000000</td>\n",
       "      <td>838983.000000</td>\n",
       "      <td>838709.000000</td>\n",
       "    </tr>\n",
       "    <tr>\n",
       "      <th>mean</th>\n",
       "      <td>2.010011e+11</td>\n",
       "      <td>3.418247</td>\n",
       "      <td>0.068575</td>\n",
       "      <td>1.855246</td>\n",
       "      <td>2.039593</td>\n",
       "      <td>109.701206</td>\n",
       "      <td>276.792763</td>\n",
       "      <td>0.130675</td>\n",
       "      <td>1.135474</td>\n",
       "      <td>1.198732</td>\n",
       "      <td>5.256996</td>\n",
       "      <td>58.389998</td>\n",
       "      <td>1.257012</td>\n",
       "      <td>0.438958</td>\n",
       "      <td>1.147201</td>\n",
       "      <td>37.916588</td>\n",
       "    </tr>\n",
       "    <tr>\n",
       "      <th>std</th>\n",
       "      <td>3.458009e+08</td>\n",
       "      <td>1.207917</td>\n",
       "      <td>0.567640</td>\n",
       "      <td>0.720949</td>\n",
       "      <td>1.550779</td>\n",
       "      <td>499.309309</td>\n",
       "      <td>357.941312</td>\n",
       "      <td>0.555434</td>\n",
       "      <td>0.620295</td>\n",
       "      <td>0.722200</td>\n",
       "      <td>21.801291</td>\n",
       "      <td>62.527755</td>\n",
       "      <td>0.954748</td>\n",
       "      <td>1.350905</td>\n",
       "      <td>0.722495</td>\n",
       "      <td>47.979898</td>\n",
       "    </tr>\n",
       "    <tr>\n",
       "      <th>min</th>\n",
       "      <td>2.005000e+11</td>\n",
       "      <td>1.000000</td>\n",
       "      <td>0.000000</td>\n",
       "      <td>0.000000</td>\n",
       "      <td>0.000000</td>\n",
       "      <td>0.000000</td>\n",
       "      <td>0.000000</td>\n",
       "      <td>0.000000</td>\n",
       "      <td>0.000000</td>\n",
       "      <td>0.000000</td>\n",
       "      <td>0.000000</td>\n",
       "      <td>-81.000000</td>\n",
       "      <td>0.000000</td>\n",
       "      <td>0.000000</td>\n",
       "      <td>0.000000</td>\n",
       "      <td>0.000000</td>\n",
       "    </tr>\n",
       "    <tr>\n",
       "      <th>25%</th>\n",
       "      <td>2.007000e+11</td>\n",
       "      <td>3.000000</td>\n",
       "      <td>0.000000</td>\n",
       "      <td>2.000000</td>\n",
       "      <td>2.000000</td>\n",
       "      <td>0.000000</td>\n",
       "      <td>0.000000</td>\n",
       "      <td>0.000000</td>\n",
       "      <td>1.000000</td>\n",
       "      <td>1.000000</td>\n",
       "      <td>0.000000</td>\n",
       "      <td>0.000000</td>\n",
       "      <td>1.000000</td>\n",
       "      <td>0.000000</td>\n",
       "      <td>1.000000</td>\n",
       "      <td>0.000000</td>\n",
       "    </tr>\n",
       "    <tr>\n",
       "      <th>50%</th>\n",
       "      <td>2.010000e+11</td>\n",
       "      <td>4.000000</td>\n",
       "      <td>0.000000</td>\n",
       "      <td>2.000000</td>\n",
       "      <td>2.000000</td>\n",
       "      <td>6.000000</td>\n",
       "      <td>100.000000</td>\n",
       "      <td>0.000000</td>\n",
       "      <td>1.000000</td>\n",
       "      <td>1.000000</td>\n",
       "      <td>0.000000</td>\n",
       "      <td>60.000000</td>\n",
       "      <td>1.000000</td>\n",
       "      <td>0.000000</td>\n",
       "      <td>1.000000</td>\n",
       "      <td>0.000000</td>\n",
       "    </tr>\n",
       "    <tr>\n",
       "      <th>75%</th>\n",
       "      <td>2.013000e+11</td>\n",
       "      <td>4.000000</td>\n",
       "      <td>0.000000</td>\n",
       "      <td>2.000000</td>\n",
       "      <td>2.000000</td>\n",
       "      <td>28.000000</td>\n",
       "      <td>500.000000</td>\n",
       "      <td>0.000000</td>\n",
       "      <td>1.000000</td>\n",
       "      <td>1.000000</td>\n",
       "      <td>0.000000</td>\n",
       "      <td>80.000000</td>\n",
       "      <td>1.000000</td>\n",
       "      <td>0.000000</td>\n",
       "      <td>1.000000</td>\n",
       "      <td>99.000000</td>\n",
       "    </tr>\n",
       "    <tr>\n",
       "      <th>max</th>\n",
       "      <td>2.016001e+11</td>\n",
       "      <td>9.000000</td>\n",
       "      <td>9.000000</td>\n",
       "      <td>4.000000</td>\n",
       "      <td>99.000000</td>\n",
       "      <td>9900.000000</td>\n",
       "      <td>9540.000000</td>\n",
       "      <td>3.000000</td>\n",
       "      <td>4.000000</td>\n",
       "      <td>4.000000</td>\n",
       "      <td>960.000000</td>\n",
       "      <td>999.000000</td>\n",
       "      <td>9.000000</td>\n",
       "      <td>7.000000</td>\n",
       "      <td>5.000000</td>\n",
       "      <td>99.000000</td>\n",
       "    </tr>\n",
       "  </tbody>\n",
       "</table>\n",
       "</div>"
      ],
      "text/plain": [
       "            Num_Acc           catr             v1           circ  \\\n",
       "count  8.399850e+05  839984.000000  332816.000000  839187.000000   \n",
       "mean   2.010011e+11       3.418247       0.068575       1.855246   \n",
       "std    3.458009e+08       1.207917       0.567640       0.720949   \n",
       "min    2.005000e+11       1.000000       0.000000       0.000000   \n",
       "25%    2.007000e+11       3.000000       0.000000       2.000000   \n",
       "50%    2.010000e+11       4.000000       0.000000       2.000000   \n",
       "75%    2.013000e+11       4.000000       0.000000       2.000000   \n",
       "max    2.016001e+11       9.000000       9.000000       4.000000   \n",
       "\n",
       "                 nbv             pr            pr1           vosp  \\\n",
       "count  838195.000000  414770.000000  413463.000000  838345.000000   \n",
       "mean        2.039593     109.701206     276.792763       0.130675   \n",
       "std         1.550779     499.309309     357.941312       0.555434   \n",
       "min         0.000000       0.000000       0.000000       0.000000   \n",
       "25%         2.000000       0.000000       0.000000       0.000000   \n",
       "50%         2.000000       6.000000     100.000000       0.000000   \n",
       "75%         2.000000      28.000000     500.000000       0.000000   \n",
       "max        99.000000    9900.000000    9540.000000       3.000000   \n",
       "\n",
       "                prof           plan         lartpc        larrout  \\\n",
       "count  838924.000000  838909.000000  830440.000000  831706.000000   \n",
       "mean        1.135474       1.198732       5.256996      58.389998   \n",
       "std         0.620295       0.722200      21.801291      62.527755   \n",
       "min         0.000000       0.000000       0.000000     -81.000000   \n",
       "25%         1.000000       1.000000       0.000000       0.000000   \n",
       "50%         1.000000       1.000000       0.000000      60.000000   \n",
       "75%         1.000000       1.000000       0.000000      80.000000   \n",
       "max         4.000000       4.000000     960.000000     999.000000   \n",
       "\n",
       "                surf          infra           situ           env1  \n",
       "count  838968.000000  838707.000000  838983.000000  838709.000000  \n",
       "mean        1.257012       0.438958       1.147201      37.916588  \n",
       "std         0.954748       1.350905       0.722495      47.979898  \n",
       "min         0.000000       0.000000       0.000000       0.000000  \n",
       "25%         1.000000       0.000000       1.000000       0.000000  \n",
       "50%         1.000000       0.000000       1.000000       0.000000  \n",
       "75%         1.000000       0.000000       1.000000      99.000000  \n",
       "max         9.000000       7.000000       5.000000      99.000000  "
      ]
     },
     "execution_count": 37,
     "metadata": {},
     "output_type": "execute_result"
    }
   ],
   "source": [
    "places_df.describe()"
   ]
  },
  {
   "cell_type": "code",
   "execution_count": 38,
   "metadata": {},
   "outputs": [
    {
     "data": {
      "text/html": [
       "<div>\n",
       "<style scoped>\n",
       "    .dataframe tbody tr th:only-of-type {\n",
       "        vertical-align: middle;\n",
       "    }\n",
       "\n",
       "    .dataframe tbody tr th {\n",
       "        vertical-align: top;\n",
       "    }\n",
       "\n",
       "    .dataframe thead th {\n",
       "        text-align: right;\n",
       "    }\n",
       "</style>\n",
       "<table border=\"1\" class=\"dataframe\">\n",
       "  <thead>\n",
       "    <tr style=\"text-align: right;\">\n",
       "      <th></th>\n",
       "      <th>Num_Acc</th>\n",
       "      <th>an</th>\n",
       "      <th>mois</th>\n",
       "      <th>jour</th>\n",
       "      <th>hrmn</th>\n",
       "      <th>lum</th>\n",
       "      <th>agg</th>\n",
       "      <th>int</th>\n",
       "      <th>atm</th>\n",
       "      <th>col</th>\n",
       "      <th>com</th>\n",
       "      <th>lat</th>\n",
       "      <th>dep</th>\n",
       "    </tr>\n",
       "  </thead>\n",
       "  <tbody>\n",
       "    <tr>\n",
       "      <th>count</th>\n",
       "      <td>8.399850e+05</td>\n",
       "      <td>839985.000000</td>\n",
       "      <td>839985.000000</td>\n",
       "      <td>839985.000000</td>\n",
       "      <td>839985.000000</td>\n",
       "      <td>839985.000000</td>\n",
       "      <td>839985.000000</td>\n",
       "      <td>839985.000000</td>\n",
       "      <td>839930.000000</td>\n",
       "      <td>839974.000000</td>\n",
       "      <td>839983.000000</td>\n",
       "      <td>3.624710e+05</td>\n",
       "      <td>839985.000000</td>\n",
       "    </tr>\n",
       "    <tr>\n",
       "      <th>mean</th>\n",
       "      <td>2.010011e+11</td>\n",
       "      <td>10.011129</td>\n",
       "      <td>6.679437</td>\n",
       "      <td>15.594687</td>\n",
       "      <td>1381.093505</td>\n",
       "      <td>1.912588</td>\n",
       "      <td>1.685924</td>\n",
       "      <td>1.694066</td>\n",
       "      <td>1.547116</td>\n",
       "      <td>4.187484</td>\n",
       "      <td>186.510172</td>\n",
       "      <td>2.849715e+06</td>\n",
       "      <td>564.257671</td>\n",
       "    </tr>\n",
       "    <tr>\n",
       "      <th>std</th>\n",
       "      <td>3.458059e+08</td>\n",
       "      <td>3.458059</td>\n",
       "      <td>3.389489</td>\n",
       "      <td>8.750201</td>\n",
       "      <td>540.757462</td>\n",
       "      <td>1.517900</td>\n",
       "      <td>0.464147</td>\n",
       "      <td>1.510792</td>\n",
       "      <td>1.587668</td>\n",
       "      <td>1.974998</td>\n",
       "      <td>171.873105</td>\n",
       "      <td>2.284591e+06</td>\n",
       "      <td>291.153083</td>\n",
       "    </tr>\n",
       "    <tr>\n",
       "      <th>min</th>\n",
       "      <td>2.005000e+11</td>\n",
       "      <td>5.000000</td>\n",
       "      <td>1.000000</td>\n",
       "      <td>1.000000</td>\n",
       "      <td>1.000000</td>\n",
       "      <td>1.000000</td>\n",
       "      <td>1.000000</td>\n",
       "      <td>0.000000</td>\n",
       "      <td>1.000000</td>\n",
       "      <td>1.000000</td>\n",
       "      <td>0.000000</td>\n",
       "      <td>0.000000e+00</td>\n",
       "      <td>10.000000</td>\n",
       "    </tr>\n",
       "    <tr>\n",
       "      <th>25%</th>\n",
       "      <td>2.007000e+11</td>\n",
       "      <td>7.000000</td>\n",
       "      <td>4.000000</td>\n",
       "      <td>8.000000</td>\n",
       "      <td>1000.000000</td>\n",
       "      <td>1.000000</td>\n",
       "      <td>1.000000</td>\n",
       "      <td>1.000000</td>\n",
       "      <td>1.000000</td>\n",
       "      <td>3.000000</td>\n",
       "      <td>55.000000</td>\n",
       "      <td>0.000000e+00</td>\n",
       "      <td>310.000000</td>\n",
       "    </tr>\n",
       "    <tr>\n",
       "      <th>50%</th>\n",
       "      <td>2.010000e+11</td>\n",
       "      <td>10.000000</td>\n",
       "      <td>7.000000</td>\n",
       "      <td>15.000000</td>\n",
       "      <td>1446.000000</td>\n",
       "      <td>1.000000</td>\n",
       "      <td>2.000000</td>\n",
       "      <td>1.000000</td>\n",
       "      <td>1.000000</td>\n",
       "      <td>3.000000</td>\n",
       "      <td>118.000000</td>\n",
       "      <td>4.370200e+06</td>\n",
       "      <td>630.000000</td>\n",
       "    </tr>\n",
       "    <tr>\n",
       "      <th>75%</th>\n",
       "      <td>2.013000e+11</td>\n",
       "      <td>13.000000</td>\n",
       "      <td>10.000000</td>\n",
       "      <td>23.000000</td>\n",
       "      <td>1810.000000</td>\n",
       "      <td>3.000000</td>\n",
       "      <td>2.000000</td>\n",
       "      <td>2.000000</td>\n",
       "      <td>1.000000</td>\n",
       "      <td>6.000000</td>\n",
       "      <td>278.000000</td>\n",
       "      <td>4.799218e+06</td>\n",
       "      <td>780.000000</td>\n",
       "    </tr>\n",
       "    <tr>\n",
       "      <th>max</th>\n",
       "      <td>2.016000e+11</td>\n",
       "      <td>16.000000</td>\n",
       "      <td>12.000000</td>\n",
       "      <td>31.000000</td>\n",
       "      <td>2359.000000</td>\n",
       "      <td>5.000000</td>\n",
       "      <td>2.000000</td>\n",
       "      <td>9.000000</td>\n",
       "      <td>9.000000</td>\n",
       "      <td>7.000000</td>\n",
       "      <td>987.000000</td>\n",
       "      <td>5.564823e+06</td>\n",
       "      <td>976.000000</td>\n",
       "    </tr>\n",
       "  </tbody>\n",
       "</table>\n",
       "</div>"
      ],
      "text/plain": [
       "            Num_Acc             an           mois           jour  \\\n",
       "count  8.399850e+05  839985.000000  839985.000000  839985.000000   \n",
       "mean   2.010011e+11      10.011129       6.679437      15.594687   \n",
       "std    3.458059e+08       3.458059       3.389489       8.750201   \n",
       "min    2.005000e+11       5.000000       1.000000       1.000000   \n",
       "25%    2.007000e+11       7.000000       4.000000       8.000000   \n",
       "50%    2.010000e+11      10.000000       7.000000      15.000000   \n",
       "75%    2.013000e+11      13.000000      10.000000      23.000000   \n",
       "max    2.016000e+11      16.000000      12.000000      31.000000   \n",
       "\n",
       "                hrmn            lum            agg            int  \\\n",
       "count  839985.000000  839985.000000  839985.000000  839985.000000   \n",
       "mean     1381.093505       1.912588       1.685924       1.694066   \n",
       "std       540.757462       1.517900       0.464147       1.510792   \n",
       "min         1.000000       1.000000       1.000000       0.000000   \n",
       "25%      1000.000000       1.000000       1.000000       1.000000   \n",
       "50%      1446.000000       1.000000       2.000000       1.000000   \n",
       "75%      1810.000000       3.000000       2.000000       2.000000   \n",
       "max      2359.000000       5.000000       2.000000       9.000000   \n",
       "\n",
       "                 atm            col            com           lat  \\\n",
       "count  839930.000000  839974.000000  839983.000000  3.624710e+05   \n",
       "mean        1.547116       4.187484     186.510172  2.849715e+06   \n",
       "std         1.587668       1.974998     171.873105  2.284591e+06   \n",
       "min         1.000000       1.000000       0.000000  0.000000e+00   \n",
       "25%         1.000000       3.000000      55.000000  0.000000e+00   \n",
       "50%         1.000000       3.000000     118.000000  4.370200e+06   \n",
       "75%         1.000000       6.000000     278.000000  4.799218e+06   \n",
       "max         9.000000       7.000000     987.000000  5.564823e+06   \n",
       "\n",
       "                 dep  \n",
       "count  839985.000000  \n",
       "mean      564.257671  \n",
       "std       291.153083  \n",
       "min        10.000000  \n",
       "25%       310.000000  \n",
       "50%       630.000000  \n",
       "75%       780.000000  \n",
       "max       976.000000  "
      ]
     },
     "execution_count": 38,
     "metadata": {},
     "output_type": "execute_result"
    }
   ],
   "source": [
    "caracteristics_df.describe()"
   ]
  },
  {
   "cell_type": "code",
   "execution_count": 39,
   "metadata": {},
   "outputs": [
    {
     "data": {
      "text/plain": [
       "1876005"
      ]
     },
     "execution_count": 39,
     "metadata": {},
     "output_type": "execute_result"
    }
   ],
   "source": [
    "users_df[\"Num_Acc\"].count()"
   ]
  },
  {
   "cell_type": "code",
   "execution_count": 40,
   "metadata": {},
   "outputs": [
    {
     "data": {
      "text/plain": [
       "839985"
      ]
     },
     "execution_count": 40,
     "metadata": {},
     "output_type": "execute_result"
    }
   ],
   "source": [
    "places_df[\"Num_Acc\"].count()"
   ]
  },
  {
   "cell_type": "code",
   "execution_count": 41,
   "metadata": {},
   "outputs": [
    {
     "data": {
      "text/plain": [
       "839985"
      ]
     },
     "execution_count": 41,
     "metadata": {},
     "output_type": "execute_result"
    }
   ],
   "source": [
    "caracteristics_df[\"Num_Acc\"].count()"
   ]
  },
  {
   "cell_type": "markdown",
   "metadata": {},
   "source": [
    "# Users"
   ]
  },
  {
   "cell_type": "code",
   "execution_count": 42,
   "metadata": {},
   "outputs": [
    {
     "data": {
      "text/html": [
       "<div>\n",
       "<style scoped>\n",
       "    .dataframe tbody tr th:only-of-type {\n",
       "        vertical-align: middle;\n",
       "    }\n",
       "\n",
       "    .dataframe tbody tr th {\n",
       "        vertical-align: top;\n",
       "    }\n",
       "\n",
       "    .dataframe thead th {\n",
       "        text-align: right;\n",
       "    }\n",
       "</style>\n",
       "<table border=\"1\" class=\"dataframe\">\n",
       "  <thead>\n",
       "    <tr style=\"text-align: right;\">\n",
       "      <th></th>\n",
       "      <th>Num_Acc</th>\n",
       "      <th>place</th>\n",
       "      <th>catu</th>\n",
       "      <th>grav</th>\n",
       "      <th>sexe</th>\n",
       "      <th>trajet</th>\n",
       "      <th>secu</th>\n",
       "      <th>locp</th>\n",
       "      <th>actp</th>\n",
       "      <th>etatp</th>\n",
       "      <th>an_nais</th>\n",
       "      <th>num_veh</th>\n",
       "    </tr>\n",
       "  </thead>\n",
       "  <tbody>\n",
       "    <tr>\n",
       "      <th>0</th>\n",
       "      <td>201600000001</td>\n",
       "      <td>1.0</td>\n",
       "      <td>1</td>\n",
       "      <td>1</td>\n",
       "      <td>2</td>\n",
       "      <td>0.0</td>\n",
       "      <td>11.0</td>\n",
       "      <td>0.0</td>\n",
       "      <td>0.0</td>\n",
       "      <td>0.0</td>\n",
       "      <td>1983.0</td>\n",
       "      <td>B02</td>\n",
       "    </tr>\n",
       "    <tr>\n",
       "      <th>1</th>\n",
       "      <td>201600000001</td>\n",
       "      <td>1.0</td>\n",
       "      <td>1</td>\n",
       "      <td>3</td>\n",
       "      <td>1</td>\n",
       "      <td>9.0</td>\n",
       "      <td>21.0</td>\n",
       "      <td>0.0</td>\n",
       "      <td>0.0</td>\n",
       "      <td>0.0</td>\n",
       "      <td>2001.0</td>\n",
       "      <td>A01</td>\n",
       "    </tr>\n",
       "    <tr>\n",
       "      <th>2</th>\n",
       "      <td>201600000002</td>\n",
       "      <td>1.0</td>\n",
       "      <td>1</td>\n",
       "      <td>3</td>\n",
       "      <td>1</td>\n",
       "      <td>5.0</td>\n",
       "      <td>11.0</td>\n",
       "      <td>0.0</td>\n",
       "      <td>0.0</td>\n",
       "      <td>0.0</td>\n",
       "      <td>1960.0</td>\n",
       "      <td>A01</td>\n",
       "    </tr>\n",
       "    <tr>\n",
       "      <th>3</th>\n",
       "      <td>201600000002</td>\n",
       "      <td>2.0</td>\n",
       "      <td>2</td>\n",
       "      <td>3</td>\n",
       "      <td>1</td>\n",
       "      <td>0.0</td>\n",
       "      <td>11.0</td>\n",
       "      <td>0.0</td>\n",
       "      <td>0.0</td>\n",
       "      <td>0.0</td>\n",
       "      <td>2000.0</td>\n",
       "      <td>A01</td>\n",
       "    </tr>\n",
       "    <tr>\n",
       "      <th>4</th>\n",
       "      <td>201600000002</td>\n",
       "      <td>3.0</td>\n",
       "      <td>2</td>\n",
       "      <td>3</td>\n",
       "      <td>2</td>\n",
       "      <td>0.0</td>\n",
       "      <td>11.0</td>\n",
       "      <td>0.0</td>\n",
       "      <td>0.0</td>\n",
       "      <td>0.0</td>\n",
       "      <td>1962.0</td>\n",
       "      <td>A01</td>\n",
       "    </tr>\n",
       "  </tbody>\n",
       "</table>\n",
       "</div>"
      ],
      "text/plain": [
       "        Num_Acc  place  catu  grav  sexe  trajet  secu  locp  actp  etatp  \\\n",
       "0  201600000001    1.0     1     1     2     0.0  11.0   0.0   0.0    0.0   \n",
       "1  201600000001    1.0     1     3     1     9.0  21.0   0.0   0.0    0.0   \n",
       "2  201600000002    1.0     1     3     1     5.0  11.0   0.0   0.0    0.0   \n",
       "3  201600000002    2.0     2     3     1     0.0  11.0   0.0   0.0    0.0   \n",
       "4  201600000002    3.0     2     3     2     0.0  11.0   0.0   0.0    0.0   \n",
       "\n",
       "   an_nais num_veh  \n",
       "0   1983.0     B02  \n",
       "1   2001.0     A01  \n",
       "2   1960.0     A01  \n",
       "3   2000.0     A01  \n",
       "4   1962.0     A01  "
      ]
     },
     "execution_count": 42,
     "metadata": {},
     "output_type": "execute_result"
    }
   ],
   "source": [
    "users_df.head()"
   ]
  },
  {
   "cell_type": "code",
   "execution_count": 43,
   "metadata": {},
   "outputs": [
    {
     "data": {
      "text/html": [
       "<div>\n",
       "<style scoped>\n",
       "    .dataframe tbody tr th:only-of-type {\n",
       "        vertical-align: middle;\n",
       "    }\n",
       "\n",
       "    .dataframe tbody tr th {\n",
       "        vertical-align: top;\n",
       "    }\n",
       "\n",
       "    .dataframe thead th {\n",
       "        text-align: right;\n",
       "    }\n",
       "</style>\n",
       "<table border=\"1\" class=\"dataframe\">\n",
       "  <thead>\n",
       "    <tr style=\"text-align: right;\">\n",
       "      <th></th>\n",
       "      <th>Num_Acc</th>\n",
       "      <th>grav</th>\n",
       "    </tr>\n",
       "  </thead>\n",
       "  <tbody>\n",
       "    <tr>\n",
       "      <th>count</th>\n",
       "      <td>1.876005e+06</td>\n",
       "      <td>1.876005e+06</td>\n",
       "    </tr>\n",
       "    <tr>\n",
       "      <th>mean</th>\n",
       "      <td>2.009992e+11</td>\n",
       "      <td>2.513080e+00</td>\n",
       "    </tr>\n",
       "    <tr>\n",
       "      <th>std</th>\n",
       "      <td>3.464316e+08</td>\n",
       "      <td>1.332745e+00</td>\n",
       "    </tr>\n",
       "    <tr>\n",
       "      <th>min</th>\n",
       "      <td>2.005000e+11</td>\n",
       "      <td>1.000000e+00</td>\n",
       "    </tr>\n",
       "    <tr>\n",
       "      <th>25%</th>\n",
       "      <td>2.007000e+11</td>\n",
       "      <td>1.000000e+00</td>\n",
       "    </tr>\n",
       "    <tr>\n",
       "      <th>50%</th>\n",
       "      <td>2.010000e+11</td>\n",
       "      <td>3.000000e+00</td>\n",
       "    </tr>\n",
       "    <tr>\n",
       "      <th>75%</th>\n",
       "      <td>2.013000e+11</td>\n",
       "      <td>4.000000e+00</td>\n",
       "    </tr>\n",
       "    <tr>\n",
       "      <th>max</th>\n",
       "      <td>2.016001e+11</td>\n",
       "      <td>4.000000e+00</td>\n",
       "    </tr>\n",
       "  </tbody>\n",
       "</table>\n",
       "</div>"
      ],
      "text/plain": [
       "            Num_Acc          grav\n",
       "count  1.876005e+06  1.876005e+06\n",
       "mean   2.009992e+11  2.513080e+00\n",
       "std    3.464316e+08  1.332745e+00\n",
       "min    2.005000e+11  1.000000e+00\n",
       "25%    2.007000e+11  1.000000e+00\n",
       "50%    2.010000e+11  3.000000e+00\n",
       "75%    2.013000e+11  4.000000e+00\n",
       "max    2.016001e+11  4.000000e+00"
      ]
     },
     "execution_count": 43,
     "metadata": {},
     "output_type": "execute_result"
    }
   ],
   "source": [
    "users_df = users_df.drop([\"place\", \"catu\", \"sexe\", \"trajet\", \"secu\", \"locp\", \"actp\", \"etatp\", \"an_nais\", \"num_veh\"], axis=1)\n",
    "\n",
    "users_df.describe()"
   ]
  },
  {
   "cell_type": "code",
   "execution_count": 44,
   "metadata": {},
   "outputs": [
    {
     "data": {
      "text/plain": [
       "<AxesSubplot:>"
      ]
     },
     "execution_count": 44,
     "metadata": {},
     "output_type": "execute_result"
    },
    {
     "data": {
      "image/png": "[encoded data removed]",
      "text/plain": [
       "<Figure size 432x288 with 1 Axes>"
      ]
     },
     "metadata": {
      "needs_background": "light"
     },
     "output_type": "display_data"
    }
   ],
   "source": [
    "users_df.grav.hist()"
   ]
  },
  {
   "cell_type": "code",
   "execution_count": 45,
   "metadata": {},
   "outputs": [
    {
     "data": {
      "text/plain": [
       "<AxesSubplot:>"
      ]
     },
     "execution_count": 45,
     "metadata": {},
     "output_type": "execute_result"
    },
    {
     "data": {
      "image/png": "[encoded data removed]",
      "text/plain": [
       "<Figure size 432x288 with 1 Axes>"
      ]
     },
     "metadata": {
      "needs_background": "light"
     },
     "output_type": "display_data"
    }
   ],
   "source": [
    "users_df = users_df.replace(1,0)\n",
    "users_df = users_df.replace(3,1)\n",
    "users_df = users_df.replace(4,0)\n",
    "users_df = users_df.replace(2,1)\n",
    "\n",
    "users_df.grav.hist()\n"
   ]
  },
  {
   "cell_type": "code",
   "execution_count": 46,
   "metadata": {},
   "outputs": [
    {
     "data": {
      "text/plain": [
       "<AxesSubplot:>"
      ]
     },
     "execution_count": 46,
     "metadata": {},
     "output_type": "execute_result"
    },
    {
     "data": {
      "image/png": "[encoded data removed]",
      "text/plain": [
       "<Figure size 432x288 with 1 Axes>"
      ]
     },
     "metadata": {
      "needs_background": "light"
     },
     "output_type": "display_data"
    }
   ],
   "source": [
    "users_df = users_df.groupby(['Num_Acc'], as_index=False).max()\n",
    "\n",
    "users_df.grav.hist()"
   ]
  },
  {
   "cell_type": "code",
   "execution_count": 47,
   "metadata": {},
   "outputs": [
    {
     "data": {
      "text/plain": [
       "Num_Acc    839985\n",
       "grav       839985\n",
       "dtype: int64"
      ]
     },
     "execution_count": 47,
     "metadata": {},
     "output_type": "execute_result"
    }
   ],
   "source": [
    "users_df.count()"
   ]
  },
  {
   "cell_type": "code",
   "execution_count": 48,
   "metadata": {},
   "outputs": [
    {
     "data": {
      "text/html": [
       "<div>\n",
       "<style scoped>\n",
       "    .dataframe tbody tr th:only-of-type {\n",
       "        vertical-align: middle;\n",
       "    }\n",
       "\n",
       "    .dataframe tbody tr th {\n",
       "        vertical-align: top;\n",
       "    }\n",
       "\n",
       "    .dataframe thead th {\n",
       "        text-align: right;\n",
       "    }\n",
       "</style>\n",
       "<table border=\"1\" class=\"dataframe\">\n",
       "  <thead>\n",
       "    <tr style=\"text-align: right;\">\n",
       "      <th></th>\n",
       "      <th>Num_Acc</th>\n",
       "      <th>grav</th>\n",
       "    </tr>\n",
       "  </thead>\n",
       "  <tbody>\n",
       "    <tr>\n",
       "      <th>0</th>\n",
       "      <td>200500000001</td>\n",
       "      <td>1</td>\n",
       "    </tr>\n",
       "    <tr>\n",
       "      <th>1</th>\n",
       "      <td>200500000002</td>\n",
       "      <td>1</td>\n",
       "    </tr>\n",
       "    <tr>\n",
       "      <th>2</th>\n",
       "      <td>200500000003</td>\n",
       "      <td>1</td>\n",
       "    </tr>\n",
       "    <tr>\n",
       "      <th>3</th>\n",
       "      <td>200500000004</td>\n",
       "      <td>1</td>\n",
       "    </tr>\n",
       "    <tr>\n",
       "      <th>4</th>\n",
       "      <td>200500000005</td>\n",
       "      <td>1</td>\n",
       "    </tr>\n",
       "    <tr>\n",
       "      <th>5</th>\n",
       "      <td>200500000006</td>\n",
       "      <td>1</td>\n",
       "    </tr>\n",
       "    <tr>\n",
       "      <th>6</th>\n",
       "      <td>200500000007</td>\n",
       "      <td>0</td>\n",
       "    </tr>\n",
       "    <tr>\n",
       "      <th>7</th>\n",
       "      <td>200500000008</td>\n",
       "      <td>1</td>\n",
       "    </tr>\n",
       "    <tr>\n",
       "      <th>8</th>\n",
       "      <td>200500000009</td>\n",
       "      <td>1</td>\n",
       "    </tr>\n",
       "    <tr>\n",
       "      <th>9</th>\n",
       "      <td>200500000010</td>\n",
       "      <td>1</td>\n",
       "    </tr>\n",
       "    <tr>\n",
       "      <th>10</th>\n",
       "      <td>200500000011</td>\n",
       "      <td>0</td>\n",
       "    </tr>\n",
       "    <tr>\n",
       "      <th>11</th>\n",
       "      <td>200500000012</td>\n",
       "      <td>0</td>\n",
       "    </tr>\n",
       "    <tr>\n",
       "      <th>12</th>\n",
       "      <td>200500000013</td>\n",
       "      <td>0</td>\n",
       "    </tr>\n",
       "    <tr>\n",
       "      <th>13</th>\n",
       "      <td>200500000014</td>\n",
       "      <td>1</td>\n",
       "    </tr>\n",
       "    <tr>\n",
       "      <th>14</th>\n",
       "      <td>200500000015</td>\n",
       "      <td>1</td>\n",
       "    </tr>\n",
       "  </tbody>\n",
       "</table>\n",
       "</div>"
      ],
      "text/plain": [
       "         Num_Acc  grav\n",
       "0   200500000001     1\n",
       "1   200500000002     1\n",
       "2   200500000003     1\n",
       "3   200500000004     1\n",
       "4   200500000005     1\n",
       "5   200500000006     1\n",
       "6   200500000007     0\n",
       "7   200500000008     1\n",
       "8   200500000009     1\n",
       "9   200500000010     1\n",
       "10  200500000011     0\n",
       "11  200500000012     0\n",
       "12  200500000013     0\n",
       "13  200500000014     1\n",
       "14  200500000015     1"
      ]
     },
     "execution_count": 48,
     "metadata": {},
     "output_type": "execute_result"
    }
   ],
   "source": [
    "users_df.head(15)"
   ]
  },
  {
   "cell_type": "markdown",
   "metadata": {},
   "source": [
    "# Places"
   ]
  },
  {
   "cell_type": "code",
   "execution_count": 49,
   "metadata": {},
   "outputs": [
    {
     "data": {
      "text/html": [
       "<div>\n",
       "<style scoped>\n",
       "    .dataframe tbody tr th:only-of-type {\n",
       "        vertical-align: middle;\n",
       "    }\n",
       "\n",
       "    .dataframe tbody tr th {\n",
       "        vertical-align: top;\n",
       "    }\n",
       "\n",
       "    .dataframe thead th {\n",
       "        text-align: right;\n",
       "    }\n",
       "</style>\n",
       "<table border=\"1\" class=\"dataframe\">\n",
       "  <thead>\n",
       "    <tr style=\"text-align: right;\">\n",
       "      <th></th>\n",
       "      <th>Num_Acc</th>\n",
       "      <th>catr</th>\n",
       "      <th>v1</th>\n",
       "      <th>circ</th>\n",
       "      <th>nbv</th>\n",
       "      <th>pr</th>\n",
       "      <th>pr1</th>\n",
       "      <th>vosp</th>\n",
       "      <th>prof</th>\n",
       "      <th>plan</th>\n",
       "      <th>lartpc</th>\n",
       "      <th>larrout</th>\n",
       "      <th>surf</th>\n",
       "      <th>infra</th>\n",
       "      <th>situ</th>\n",
       "      <th>env1</th>\n",
       "    </tr>\n",
       "  </thead>\n",
       "  <tbody>\n",
       "    <tr>\n",
       "      <th>count</th>\n",
       "      <td>8.399850e+05</td>\n",
       "      <td>839984.000000</td>\n",
       "      <td>332816.000000</td>\n",
       "      <td>839187.000000</td>\n",
       "      <td>838195.000000</td>\n",
       "      <td>414770.000000</td>\n",
       "      <td>413463.000000</td>\n",
       "      <td>838345.000000</td>\n",
       "      <td>838924.000000</td>\n",
       "      <td>838909.000000</td>\n",
       "      <td>830440.000000</td>\n",
       "      <td>831706.000000</td>\n",
       "      <td>838968.000000</td>\n",
       "      <td>838707.000000</td>\n",
       "      <td>838983.000000</td>\n",
       "      <td>838709.000000</td>\n",
       "    </tr>\n",
       "    <tr>\n",
       "      <th>mean</th>\n",
       "      <td>2.010011e+11</td>\n",
       "      <td>3.418247</td>\n",
       "      <td>0.068575</td>\n",
       "      <td>1.855246</td>\n",
       "      <td>2.039593</td>\n",
       "      <td>109.701206</td>\n",
       "      <td>276.792763</td>\n",
       "      <td>0.130675</td>\n",
       "      <td>1.135474</td>\n",
       "      <td>1.198732</td>\n",
       "      <td>5.256996</td>\n",
       "      <td>58.389998</td>\n",
       "      <td>1.257012</td>\n",
       "      <td>0.438958</td>\n",
       "      <td>1.147201</td>\n",
       "      <td>37.916588</td>\n",
       "    </tr>\n",
       "    <tr>\n",
       "      <th>std</th>\n",
       "      <td>3.458009e+08</td>\n",
       "      <td>1.207917</td>\n",
       "      <td>0.567640</td>\n",
       "      <td>0.720949</td>\n",
       "      <td>1.550779</td>\n",
       "      <td>499.309309</td>\n",
       "      <td>357.941312</td>\n",
       "      <td>0.555434</td>\n",
       "      <td>0.620295</td>\n",
       "      <td>0.722200</td>\n",
       "      <td>21.801291</td>\n",
       "      <td>62.527755</td>\n",
       "      <td>0.954748</td>\n",
       "      <td>1.350905</td>\n",
       "      <td>0.722495</td>\n",
       "      <td>47.979898</td>\n",
       "    </tr>\n",
       "    <tr>\n",
       "      <th>min</th>\n",
       "      <td>2.005000e+11</td>\n",
       "      <td>1.000000</td>\n",
       "      <td>0.000000</td>\n",
       "      <td>0.000000</td>\n",
       "      <td>0.000000</td>\n",
       "      <td>0.000000</td>\n",
       "      <td>0.000000</td>\n",
       "      <td>0.000000</td>\n",
       "      <td>0.000000</td>\n",
       "      <td>0.000000</td>\n",
       "      <td>0.000000</td>\n",
       "      <td>-81.000000</td>\n",
       "      <td>0.000000</td>\n",
       "      <td>0.000000</td>\n",
       "      <td>0.000000</td>\n",
       "      <td>0.000000</td>\n",
       "    </tr>\n",
       "    <tr>\n",
       "      <th>25%</th>\n",
       "      <td>2.007000e+11</td>\n",
       "      <td>3.000000</td>\n",
       "      <td>0.000000</td>\n",
       "      <td>2.000000</td>\n",
       "      <td>2.000000</td>\n",
       "      <td>0.000000</td>\n",
       "      <td>0.000000</td>\n",
       "      <td>0.000000</td>\n",
       "      <td>1.000000</td>\n",
       "      <td>1.000000</td>\n",
       "      <td>0.000000</td>\n",
       "      <td>0.000000</td>\n",
       "      <td>1.000000</td>\n",
       "      <td>0.000000</td>\n",
       "      <td>1.000000</td>\n",
       "      <td>0.000000</td>\n",
       "    </tr>\n",
       "    <tr>\n",
       "      <th>50%</th>\n",
       "      <td>2.010000e+11</td>\n",
       "      <td>4.000000</td>\n",
       "      <td>0.000000</td>\n",
       "      <td>2.000000</td>\n",
       "      <td>2.000000</td>\n",
       "      <td>6.000000</td>\n",
       "      <td>100.000000</td>\n",
       "      <td>0.000000</td>\n",
       "      <td>1.000000</td>\n",
       "      <td>1.000000</td>\n",
       "      <td>0.000000</td>\n",
       "      <td>60.000000</td>\n",
       "      <td>1.000000</td>\n",
       "      <td>0.000000</td>\n",
       "      <td>1.000000</td>\n",
       "      <td>0.000000</td>\n",
       "    </tr>\n",
       "    <tr>\n",
       "      <th>75%</th>\n",
       "      <td>2.013000e+11</td>\n",
       "      <td>4.000000</td>\n",
       "      <td>0.000000</td>\n",
       "      <td>2.000000</td>\n",
       "      <td>2.000000</td>\n",
       "      <td>28.000000</td>\n",
       "      <td>500.000000</td>\n",
       "      <td>0.000000</td>\n",
       "      <td>1.000000</td>\n",
       "      <td>1.000000</td>\n",
       "      <td>0.000000</td>\n",
       "      <td>80.000000</td>\n",
       "      <td>1.000000</td>\n",
       "      <td>0.000000</td>\n",
       "      <td>1.000000</td>\n",
       "      <td>99.000000</td>\n",
       "    </tr>\n",
       "    <tr>\n",
       "      <th>max</th>\n",
       "      <td>2.016001e+11</td>\n",
       "      <td>9.000000</td>\n",
       "      <td>9.000000</td>\n",
       "      <td>4.000000</td>\n",
       "      <td>99.000000</td>\n",
       "      <td>9900.000000</td>\n",
       "      <td>9540.000000</td>\n",
       "      <td>3.000000</td>\n",
       "      <td>4.000000</td>\n",
       "      <td>4.000000</td>\n",
       "      <td>960.000000</td>\n",
       "      <td>999.000000</td>\n",
       "      <td>9.000000</td>\n",
       "      <td>7.000000</td>\n",
       "      <td>5.000000</td>\n",
       "      <td>99.000000</td>\n",
       "    </tr>\n",
       "  </tbody>\n",
       "</table>\n",
       "</div>"
      ],
      "text/plain": [
       "            Num_Acc           catr             v1           circ  \\\n",
       "count  8.399850e+05  839984.000000  332816.000000  839187.000000   \n",
       "mean   2.010011e+11       3.418247       0.068575       1.855246   \n",
       "std    3.458009e+08       1.207917       0.567640       0.720949   \n",
       "min    2.005000e+11       1.000000       0.000000       0.000000   \n",
       "25%    2.007000e+11       3.000000       0.000000       2.000000   \n",
       "50%    2.010000e+11       4.000000       0.000000       2.000000   \n",
       "75%    2.013000e+11       4.000000       0.000000       2.000000   \n",
       "max    2.016001e+11       9.000000       9.000000       4.000000   \n",
       "\n",
       "                 nbv             pr            pr1           vosp  \\\n",
       "count  838195.000000  414770.000000  413463.000000  838345.000000   \n",
       "mean        2.039593     109.701206     276.792763       0.130675   \n",
       "std         1.550779     499.309309     357.941312       0.555434   \n",
       "min         0.000000       0.000000       0.000000       0.000000   \n",
       "25%         2.000000       0.000000       0.000000       0.000000   \n",
       "50%         2.000000       6.000000     100.000000       0.000000   \n",
       "75%         2.000000      28.000000     500.000000       0.000000   \n",
       "max        99.000000    9900.000000    9540.000000       3.000000   \n",
       "\n",
       "                prof           plan         lartpc        larrout  \\\n",
       "count  838924.000000  838909.000000  830440.000000  831706.000000   \n",
       "mean        1.135474       1.198732       5.256996      58.389998   \n",
       "std         0.620295       0.722200      21.801291      62.527755   \n",
       "min         0.000000       0.000000       0.000000     -81.000000   \n",
       "25%         1.000000       1.000000       0.000000       0.000000   \n",
       "50%         1.000000       1.000000       0.000000      60.000000   \n",
       "75%         1.000000       1.000000       0.000000      80.000000   \n",
       "max         4.000000       4.000000     960.000000     999.000000   \n",
       "\n",
       "                surf          infra           situ           env1  \n",
       "count  838968.000000  838707.000000  838983.000000  838709.000000  \n",
       "mean        1.257012       0.438958       1.147201      37.916588  \n",
       "std         0.954748       1.350905       0.722495      47.979898  \n",
       "min         0.000000       0.000000       0.000000       0.000000  \n",
       "25%         1.000000       0.000000       1.000000       0.000000  \n",
       "50%         1.000000       0.000000       1.000000       0.000000  \n",
       "75%         1.000000       0.000000       1.000000      99.000000  \n",
       "max         9.000000       7.000000       5.000000      99.000000  "
      ]
     },
     "execution_count": 49,
     "metadata": {},
     "output_type": "execute_result"
    }
   ],
   "source": [
    "places_df.describe()"
   ]
  },
  {
   "cell_type": "code",
   "execution_count": 50,
   "metadata": {},
   "outputs": [
    {
     "data": {
      "text/html": [
       "<div>\n",
       "<style scoped>\n",
       "    .dataframe tbody tr th:only-of-type {\n",
       "        vertical-align: middle;\n",
       "    }\n",
       "\n",
       "    .dataframe tbody tr th {\n",
       "        vertical-align: top;\n",
       "    }\n",
       "\n",
       "    .dataframe thead th {\n",
       "        text-align: right;\n",
       "    }\n",
       "</style>\n",
       "<table border=\"1\" class=\"dataframe\">\n",
       "  <thead>\n",
       "    <tr style=\"text-align: right;\">\n",
       "      <th></th>\n",
       "      <th>Num_Acc</th>\n",
       "      <th>catr</th>\n",
       "      <th>circ</th>\n",
       "      <th>nbv</th>\n",
       "      <th>surf</th>\n",
       "      <th>infra</th>\n",
       "    </tr>\n",
       "  </thead>\n",
       "  <tbody>\n",
       "    <tr>\n",
       "      <th>count</th>\n",
       "      <td>8.399850e+05</td>\n",
       "      <td>839984.000000</td>\n",
       "      <td>839187.000000</td>\n",
       "      <td>838195.000000</td>\n",
       "      <td>838968.000000</td>\n",
       "      <td>838707.000000</td>\n",
       "    </tr>\n",
       "    <tr>\n",
       "      <th>mean</th>\n",
       "      <td>2.010011e+11</td>\n",
       "      <td>3.418247</td>\n",
       "      <td>1.855246</td>\n",
       "      <td>2.039593</td>\n",
       "      <td>1.257012</td>\n",
       "      <td>0.438958</td>\n",
       "    </tr>\n",
       "    <tr>\n",
       "      <th>std</th>\n",
       "      <td>3.458009e+08</td>\n",
       "      <td>1.207917</td>\n",
       "      <td>0.720949</td>\n",
       "      <td>1.550779</td>\n",
       "      <td>0.954748</td>\n",
       "      <td>1.350905</td>\n",
       "    </tr>\n",
       "    <tr>\n",
       "      <th>min</th>\n",
       "      <td>2.005000e+11</td>\n",
       "      <td>1.000000</td>\n",
       "      <td>0.000000</td>\n",
       "      <td>0.000000</td>\n",
       "      <td>0.000000</td>\n",
       "      <td>0.000000</td>\n",
       "    </tr>\n",
       "    <tr>\n",
       "      <th>25%</th>\n",
       "      <td>2.007000e+11</td>\n",
       "      <td>3.000000</td>\n",
       "      <td>2.000000</td>\n",
       "      <td>2.000000</td>\n",
       "      <td>1.000000</td>\n",
       "      <td>0.000000</td>\n",
       "    </tr>\n",
       "    <tr>\n",
       "      <th>50%</th>\n",
       "      <td>2.010000e+11</td>\n",
       "      <td>4.000000</td>\n",
       "      <td>2.000000</td>\n",
       "      <td>2.000000</td>\n",
       "      <td>1.000000</td>\n",
       "      <td>0.000000</td>\n",
       "    </tr>\n",
       "    <tr>\n",
       "      <th>75%</th>\n",
       "      <td>2.013000e+11</td>\n",
       "      <td>4.000000</td>\n",
       "      <td>2.000000</td>\n",
       "      <td>2.000000</td>\n",
       "      <td>1.000000</td>\n",
       "      <td>0.000000</td>\n",
       "    </tr>\n",
       "    <tr>\n",
       "      <th>max</th>\n",
       "      <td>2.016001e+11</td>\n",
       "      <td>9.000000</td>\n",
       "      <td>4.000000</td>\n",
       "      <td>99.000000</td>\n",
       "      <td>9.000000</td>\n",
       "      <td>7.000000</td>\n",
       "    </tr>\n",
       "  </tbody>\n",
       "</table>\n",
       "</div>"
      ],
      "text/plain": [
       "            Num_Acc           catr           circ            nbv  \\\n",
       "count  8.399850e+05  839984.000000  839187.000000  838195.000000   \n",
       "mean   2.010011e+11       3.418247       1.855246       2.039593   \n",
       "std    3.458009e+08       1.207917       0.720949       1.550779   \n",
       "min    2.005000e+11       1.000000       0.000000       0.000000   \n",
       "25%    2.007000e+11       3.000000       2.000000       2.000000   \n",
       "50%    2.010000e+11       4.000000       2.000000       2.000000   \n",
       "75%    2.013000e+11       4.000000       2.000000       2.000000   \n",
       "max    2.016001e+11       9.000000       4.000000      99.000000   \n",
       "\n",
       "                surf          infra  \n",
       "count  838968.000000  838707.000000  \n",
       "mean        1.257012       0.438958  \n",
       "std         0.954748       1.350905  \n",
       "min         0.000000       0.000000  \n",
       "25%         1.000000       0.000000  \n",
       "50%         1.000000       0.000000  \n",
       "75%         1.000000       0.000000  \n",
       "max         9.000000       7.000000  "
      ]
     },
     "execution_count": 50,
     "metadata": {},
     "output_type": "execute_result"
    }
   ],
   "source": [
    "places_df = places_df.drop([\"v1\", \"voie\", \"v2\", \"pr\", \"pr1\", \"vosp\", \"prof\", \"plan\", \"lartpc\", \"larrout\", \"situ\", \"env1\"], axis=1)\n",
    "\n",
    "places_df.describe()"
   ]
  },
  {
   "cell_type": "code",
   "execution_count": 51,
   "metadata": {},
   "outputs": [
    {
     "name": "stdout",
     "output_type": "stream",
     "text": [
      "<class 'pandas.core.frame.DataFrame'>\n",
      "RangeIndex: 839985 entries, 0 to 839984\n",
      "Data columns (total 6 columns):\n",
      " #   Column   Non-Null Count   Dtype  \n",
      "---  ------   --------------   -----  \n",
      " 0   Num_Acc  839985 non-null  int64  \n",
      " 1   catr     839984 non-null  float64\n",
      " 2   circ     839187 non-null  float64\n",
      " 3   nbv      838195 non-null  float64\n",
      " 4   surf     838968 non-null  float64\n",
      " 5   infra    838707 non-null  float64\n",
      "dtypes: float64(5), int64(1)\n",
      "memory usage: 38.5 MB\n"
     ]
    }
   ],
   "source": [
    "places_df.info()"
   ]
  },
  {
   "cell_type": "code",
   "execution_count": 52,
   "metadata": {},
   "outputs": [
    {
     "data": {
      "text/plain": [
       "1"
      ]
     },
     "execution_count": 52,
     "metadata": {},
     "output_type": "execute_result"
    }
   ],
   "source": [
    "places_df[\"catr\"].isna().sum()"
   ]
  },
  {
   "cell_type": "code",
   "execution_count": 53,
   "metadata": {},
   "outputs": [],
   "source": [
    "places_df[\"catr\"] = places_df[\"catr\"].fillna(9)\n"
   ]
  },
  {
   "cell_type": "code",
   "execution_count": 54,
   "metadata": {},
   "outputs": [],
   "source": [
    "places_df[\"catr\"] = places_df[\"catr\"].astype(int)\n"
   ]
  },
  {
   "cell_type": "code",
   "execution_count": 55,
   "metadata": {},
   "outputs": [
    {
     "data": {
      "text/plain": [
       "798"
      ]
     },
     "execution_count": 55,
     "metadata": {},
     "output_type": "execute_result"
    }
   ],
   "source": [
    "places_df[\"circ\"].isna().sum()\n"
   ]
  },
  {
   "cell_type": "code",
   "execution_count": 56,
   "metadata": {},
   "outputs": [
    {
     "data": {
      "text/plain": [
       "44556"
      ]
     },
     "execution_count": 56,
     "metadata": {},
     "output_type": "execute_result"
    }
   ],
   "source": [
    "(places_df[\"circ\"] == 0).sum()"
   ]
  },
  {
   "cell_type": "code",
   "execution_count": 57,
   "metadata": {},
   "outputs": [
    {
     "data": {
      "text/plain": [
       "<AxesSubplot:>"
      ]
     },
     "execution_count": 57,
     "metadata": {},
     "output_type": "execute_result"
    },
    {
     "data": {
      "image/png": "[encoded data removed]",
      "text/plain": [
       "<Figure size 432x288 with 1 Axes>"
      ]
     },
     "metadata": {
      "needs_background": "light"
     },
     "output_type": "display_data"
    }
   ],
   "source": [
    "places_df[\"circ\"].hist()\n"
   ]
  },
  {
   "cell_type": "code",
   "execution_count": 58,
   "metadata": {},
   "outputs": [],
   "source": [
    "places_df[\"circ\"] = places_df[\"circ\"].fillna(2)\n",
    "places_df[\"circ\"] = places_df[\"circ\"].replace(0,2)"
   ]
  },
  {
   "cell_type": "code",
   "execution_count": 59,
   "metadata": {},
   "outputs": [],
   "source": [
    "places_df[\"circ\"] = places_df[\"circ\"].astype(int)\n"
   ]
  },
  {
   "cell_type": "code",
   "execution_count": 60,
   "metadata": {},
   "outputs": [
    {
     "data": {
      "text/plain": [
       "1790"
      ]
     },
     "execution_count": 60,
     "metadata": {},
     "output_type": "execute_result"
    }
   ],
   "source": [
    "places_df[\"nbv\"].isna().sum()\n"
   ]
  },
  {
   "cell_type": "code",
   "execution_count": 61,
   "metadata": {},
   "outputs": [],
   "source": [
    "places_df[\"nbv\"] = places_df[\"nbv\"].where(places_df[\"nbv\"] < 6,0)\n"
   ]
  },
  {
   "cell_type": "code",
   "execution_count": 62,
   "metadata": {},
   "outputs": [
    {
     "data": {
      "text/plain": [
       "122899"
      ]
     },
     "execution_count": 62,
     "metadata": {},
     "output_type": "execute_result"
    }
   ],
   "source": [
    "(places_df[\"nbv\"] == 0).sum()\n"
   ]
  },
  {
   "cell_type": "code",
   "execution_count": 63,
   "metadata": {},
   "outputs": [
    {
     "data": {
      "text/plain": [
       "<AxesSubplot:>"
      ]
     },
     "execution_count": 63,
     "metadata": {},
     "output_type": "execute_result"
    },
    {
     "data": {
      "image/png": "[encoded data removed]",
      "text/plain": [
       "<Figure size 432x288 with 1 Axes>"
      ]
     },
     "metadata": {
      "needs_background": "light"
     },
     "output_type": "display_data"
    }
   ],
   "source": [
    "places_df[\"nbv\"].hist()\n"
   ]
  },
  {
   "cell_type": "code",
   "execution_count": 64,
   "metadata": {},
   "outputs": [],
   "source": [
    "places_df[\"nbv\"] = places_df[\"nbv\"].fillna(2)\n",
    "places_df[\"nbv\"] = places_df[\"nbv\"].replace(0,2)"
   ]
  },
  {
   "cell_type": "code",
   "execution_count": 65,
   "metadata": {},
   "outputs": [],
   "source": [
    "places_df[\"nbv\"] = places_df[\"nbv\"].astype(int)\n"
   ]
  },
  {
   "cell_type": "code",
   "execution_count": 66,
   "metadata": {},
   "outputs": [
    {
     "data": {
      "text/plain": [
       "1017"
      ]
     },
     "execution_count": 66,
     "metadata": {},
     "output_type": "execute_result"
    }
   ],
   "source": [
    "places_df[\"surf\"].isna().sum()\n"
   ]
  },
  {
   "cell_type": "code",
   "execution_count": 67,
   "metadata": {},
   "outputs": [
    {
     "data": {
      "text/plain": [
       "26998"
      ]
     },
     "execution_count": 67,
     "metadata": {},
     "output_type": "execute_result"
    }
   ],
   "source": [
    "(places_df[\"surf\"] == 0).sum()\n"
   ]
  },
  {
   "cell_type": "code",
   "execution_count": 68,
   "metadata": {},
   "outputs": [
    {
     "data": {
      "text/plain": [
       "<AxesSubplot:>"
      ]
     },
     "execution_count": 68,
     "metadata": {},
     "output_type": "execute_result"
    },
    {
     "data": {
      "image/png": "[encoded data removed]",
      "text/plain": [
       "<Figure size 432x288 with 1 Axes>"
      ]
     },
     "metadata": {
      "needs_background": "light"
     },
     "output_type": "display_data"
    }
   ],
   "source": [
    "places_df[\"surf\"].hist()\n"
   ]
  },
  {
   "cell_type": "code",
   "execution_count": 69,
   "metadata": {},
   "outputs": [
    {
     "data": {
      "text/plain": [
       "652322"
      ]
     },
     "execution_count": 69,
     "metadata": {},
     "output_type": "execute_result"
    }
   ],
   "source": [
    "(places_df[\"surf\"] == 1).sum()\n"
   ]
  },
  {
   "cell_type": "code",
   "execution_count": 70,
   "metadata": {},
   "outputs": [],
   "source": [
    "places_df[\"surf\"] = places_df[\"surf\"].fillna(1)\n",
    "places_df[\"surf\"] = places_df[\"surf\"].replace(0,1)"
   ]
  },
  {
   "cell_type": "code",
   "execution_count": 71,
   "metadata": {},
   "outputs": [],
   "source": [
    "places_df[\"surf\"] = places_df[\"surf\"].astype(int)\n"
   ]
  },
  {
   "cell_type": "code",
   "execution_count": 72,
   "metadata": {},
   "outputs": [
    {
     "data": {
      "text/plain": [
       "747965"
      ]
     },
     "execution_count": 72,
     "metadata": {},
     "output_type": "execute_result"
    }
   ],
   "source": [
    "(places_df[\"infra\"] == 0).sum()\n"
   ]
  },
  {
   "cell_type": "code",
   "execution_count": 73,
   "metadata": {},
   "outputs": [],
   "source": [
    "places_df = places_df.drop([\"infra\"], axis=1)\n"
   ]
  },
  {
   "cell_type": "code",
   "execution_count": 74,
   "metadata": {},
   "outputs": [
    {
     "name": "stdout",
     "output_type": "stream",
     "text": [
      "<class 'pandas.core.frame.DataFrame'>\n",
      "RangeIndex: 839985 entries, 0 to 839984\n",
      "Data columns (total 5 columns):\n",
      " #   Column   Non-Null Count   Dtype\n",
      "---  ------   --------------   -----\n",
      " 0   Num_Acc  839985 non-null  int64\n",
      " 1   catr     839985 non-null  int32\n",
      " 2   circ     839985 non-null  int32\n",
      " 3   nbv      839985 non-null  int32\n",
      " 4   surf     839985 non-null  int32\n",
      "dtypes: int32(4), int64(1)\n",
      "memory usage: 19.2 MB\n"
     ]
    }
   ],
   "source": [
    "places_df.info()\n"
   ]
  },
  {
   "cell_type": "code",
   "execution_count": 75,
   "metadata": {},
   "outputs": [
    {
     "data": {
      "text/html": [
       "<div>\n",
       "<style scoped>\n",
       "    .dataframe tbody tr th:only-of-type {\n",
       "        vertical-align: middle;\n",
       "    }\n",
       "\n",
       "    .dataframe tbody tr th {\n",
       "        vertical-align: top;\n",
       "    }\n",
       "\n",
       "    .dataframe thead th {\n",
       "        text-align: right;\n",
       "    }\n",
       "</style>\n",
       "<table border=\"1\" class=\"dataframe\">\n",
       "  <thead>\n",
       "    <tr style=\"text-align: right;\">\n",
       "      <th></th>\n",
       "      <th>Num_Acc</th>\n",
       "      <th>catr</th>\n",
       "      <th>circ</th>\n",
       "      <th>nbv</th>\n",
       "      <th>surf</th>\n",
       "    </tr>\n",
       "  </thead>\n",
       "  <tbody>\n",
       "    <tr>\n",
       "      <th>count</th>\n",
       "      <td>8.399850e+05</td>\n",
       "      <td>839985.000000</td>\n",
       "      <td>839985.000000</td>\n",
       "      <td>839985.000000</td>\n",
       "      <td>839985.000000</td>\n",
       "    </tr>\n",
       "    <tr>\n",
       "      <th>mean</th>\n",
       "      <td>2.010011e+11</td>\n",
       "      <td>3.418254</td>\n",
       "      <td>1.961471</td>\n",
       "      <td>2.169398</td>\n",
       "      <td>1.288842</td>\n",
       "    </tr>\n",
       "    <tr>\n",
       "      <th>std</th>\n",
       "      <td>3.458009e+08</td>\n",
       "      <td>1.207931</td>\n",
       "      <td>0.571444</td>\n",
       "      <td>0.788149</td>\n",
       "      <td>0.927817</td>\n",
       "    </tr>\n",
       "    <tr>\n",
       "      <th>min</th>\n",
       "      <td>2.005000e+11</td>\n",
       "      <td>1.000000</td>\n",
       "      <td>1.000000</td>\n",
       "      <td>1.000000</td>\n",
       "      <td>1.000000</td>\n",
       "    </tr>\n",
       "    <tr>\n",
       "      <th>25%</th>\n",
       "      <td>2.007000e+11</td>\n",
       "      <td>3.000000</td>\n",
       "      <td>2.000000</td>\n",
       "      <td>2.000000</td>\n",
       "      <td>1.000000</td>\n",
       "    </tr>\n",
       "    <tr>\n",
       "      <th>50%</th>\n",
       "      <td>2.010000e+11</td>\n",
       "      <td>4.000000</td>\n",
       "      <td>2.000000</td>\n",
       "      <td>2.000000</td>\n",
       "      <td>1.000000</td>\n",
       "    </tr>\n",
       "    <tr>\n",
       "      <th>75%</th>\n",
       "      <td>2.013000e+11</td>\n",
       "      <td>4.000000</td>\n",
       "      <td>2.000000</td>\n",
       "      <td>2.000000</td>\n",
       "      <td>1.000000</td>\n",
       "    </tr>\n",
       "    <tr>\n",
       "      <th>max</th>\n",
       "      <td>2.016001e+11</td>\n",
       "      <td>9.000000</td>\n",
       "      <td>4.000000</td>\n",
       "      <td>5.000000</td>\n",
       "      <td>9.000000</td>\n",
       "    </tr>\n",
       "  </tbody>\n",
       "</table>\n",
       "</div>"
      ],
      "text/plain": [
       "            Num_Acc           catr           circ            nbv  \\\n",
       "count  8.399850e+05  839985.000000  839985.000000  839985.000000   \n",
       "mean   2.010011e+11       3.418254       1.961471       2.169398   \n",
       "std    3.458009e+08       1.207931       0.571444       0.788149   \n",
       "min    2.005000e+11       1.000000       1.000000       1.000000   \n",
       "25%    2.007000e+11       3.000000       2.000000       2.000000   \n",
       "50%    2.010000e+11       4.000000       2.000000       2.000000   \n",
       "75%    2.013000e+11       4.000000       2.000000       2.000000   \n",
       "max    2.016001e+11       9.000000       4.000000       5.000000   \n",
       "\n",
       "                surf  \n",
       "count  839985.000000  \n",
       "mean        1.288842  \n",
       "std         0.927817  \n",
       "min         1.000000  \n",
       "25%         1.000000  \n",
       "50%         1.000000  \n",
       "75%         1.000000  \n",
       "max         9.000000  "
      ]
     },
     "execution_count": 75,
     "metadata": {},
     "output_type": "execute_result"
    }
   ],
   "source": [
    "places_df.describe()\n"
   ]
  },
  {
   "cell_type": "markdown",
   "metadata": {},
   "source": [
    "# Caracteristics"
   ]
  },
  {
   "cell_type": "code",
   "execution_count": 76,
   "metadata": {},
   "outputs": [
    {
     "data": {
      "text/html": [
       "<div>\n",
       "<style scoped>\n",
       "    .dataframe tbody tr th:only-of-type {\n",
       "        vertical-align: middle;\n",
       "    }\n",
       "\n",
       "    .dataframe tbody tr th {\n",
       "        vertical-align: top;\n",
       "    }\n",
       "\n",
       "    .dataframe thead th {\n",
       "        text-align: right;\n",
       "    }\n",
       "</style>\n",
       "<table border=\"1\" class=\"dataframe\">\n",
       "  <thead>\n",
       "    <tr style=\"text-align: right;\">\n",
       "      <th></th>\n",
       "      <th>Num_Acc</th>\n",
       "      <th>an</th>\n",
       "      <th>mois</th>\n",
       "      <th>jour</th>\n",
       "      <th>hrmn</th>\n",
       "      <th>lum</th>\n",
       "      <th>agg</th>\n",
       "      <th>int</th>\n",
       "      <th>atm</th>\n",
       "      <th>col</th>\n",
       "      <th>com</th>\n",
       "      <th>lat</th>\n",
       "      <th>dep</th>\n",
       "    </tr>\n",
       "  </thead>\n",
       "  <tbody>\n",
       "    <tr>\n",
       "      <th>count</th>\n",
       "      <td>8.399850e+05</td>\n",
       "      <td>839985.000000</td>\n",
       "      <td>839985.000000</td>\n",
       "      <td>839985.000000</td>\n",
       "      <td>839985.000000</td>\n",
       "      <td>839985.000000</td>\n",
       "      <td>839985.000000</td>\n",
       "      <td>839985.000000</td>\n",
       "      <td>839930.000000</td>\n",
       "      <td>839974.000000</td>\n",
       "      <td>839983.000000</td>\n",
       "      <td>3.624710e+05</td>\n",
       "      <td>839985.000000</td>\n",
       "    </tr>\n",
       "    <tr>\n",
       "      <th>mean</th>\n",
       "      <td>2.010011e+11</td>\n",
       "      <td>10.011129</td>\n",
       "      <td>6.679437</td>\n",
       "      <td>15.594687</td>\n",
       "      <td>1381.093505</td>\n",
       "      <td>1.912588</td>\n",
       "      <td>1.685924</td>\n",
       "      <td>1.694066</td>\n",
       "      <td>1.547116</td>\n",
       "      <td>4.187484</td>\n",
       "      <td>186.510172</td>\n",
       "      <td>2.849715e+06</td>\n",
       "      <td>564.257671</td>\n",
       "    </tr>\n",
       "    <tr>\n",
       "      <th>std</th>\n",
       "      <td>3.458059e+08</td>\n",
       "      <td>3.458059</td>\n",
       "      <td>3.389489</td>\n",
       "      <td>8.750201</td>\n",
       "      <td>540.757462</td>\n",
       "      <td>1.517900</td>\n",
       "      <td>0.464147</td>\n",
       "      <td>1.510792</td>\n",
       "      <td>1.587668</td>\n",
       "      <td>1.974998</td>\n",
       "      <td>171.873105</td>\n",
       "      <td>2.284591e+06</td>\n",
       "      <td>291.153083</td>\n",
       "    </tr>\n",
       "    <tr>\n",
       "      <th>min</th>\n",
       "      <td>2.005000e+11</td>\n",
       "      <td>5.000000</td>\n",
       "      <td>1.000000</td>\n",
       "      <td>1.000000</td>\n",
       "      <td>1.000000</td>\n",
       "      <td>1.000000</td>\n",
       "      <td>1.000000</td>\n",
       "      <td>0.000000</td>\n",
       "      <td>1.000000</td>\n",
       "      <td>1.000000</td>\n",
       "      <td>0.000000</td>\n",
       "      <td>0.000000e+00</td>\n",
       "      <td>10.000000</td>\n",
       "    </tr>\n",
       "    <tr>\n",
       "      <th>25%</th>\n",
       "      <td>2.007000e+11</td>\n",
       "      <td>7.000000</td>\n",
       "      <td>4.000000</td>\n",
       "      <td>8.000000</td>\n",
       "      <td>1000.000000</td>\n",
       "      <td>1.000000</td>\n",
       "      <td>1.000000</td>\n",
       "      <td>1.000000</td>\n",
       "      <td>1.000000</td>\n",
       "      <td>3.000000</td>\n",
       "      <td>55.000000</td>\n",
       "      <td>0.000000e+00</td>\n",
       "      <td>310.000000</td>\n",
       "    </tr>\n",
       "    <tr>\n",
       "      <th>50%</th>\n",
       "      <td>2.010000e+11</td>\n",
       "      <td>10.000000</td>\n",
       "      <td>7.000000</td>\n",
       "      <td>15.000000</td>\n",
       "      <td>1446.000000</td>\n",
       "      <td>1.000000</td>\n",
       "      <td>2.000000</td>\n",
       "      <td>1.000000</td>\n",
       "      <td>1.000000</td>\n",
       "      <td>3.000000</td>\n",
       "      <td>118.000000</td>\n",
       "      <td>4.370200e+06</td>\n",
       "      <td>630.000000</td>\n",
       "    </tr>\n",
       "    <tr>\n",
       "      <th>75%</th>\n",
       "      <td>2.013000e+11</td>\n",
       "      <td>13.000000</td>\n",
       "      <td>10.000000</td>\n",
       "      <td>23.000000</td>\n",
       "      <td>1810.000000</td>\n",
       "      <td>3.000000</td>\n",
       "      <td>2.000000</td>\n",
       "      <td>2.000000</td>\n",
       "      <td>1.000000</td>\n",
       "      <td>6.000000</td>\n",
       "      <td>278.000000</td>\n",
       "      <td>4.799218e+06</td>\n",
       "      <td>780.000000</td>\n",
       "    </tr>\n",
       "    <tr>\n",
       "      <th>max</th>\n",
       "      <td>2.016000e+11</td>\n",
       "      <td>16.000000</td>\n",
       "      <td>12.000000</td>\n",
       "      <td>31.000000</td>\n",
       "      <td>2359.000000</td>\n",
       "      <td>5.000000</td>\n",
       "      <td>2.000000</td>\n",
       "      <td>9.000000</td>\n",
       "      <td>9.000000</td>\n",
       "      <td>7.000000</td>\n",
       "      <td>987.000000</td>\n",
       "      <td>5.564823e+06</td>\n",
       "      <td>976.000000</td>\n",
       "    </tr>\n",
       "  </tbody>\n",
       "</table>\n",
       "</div>"
      ],
      "text/plain": [
       "            Num_Acc             an           mois           jour  \\\n",
       "count  8.399850e+05  839985.000000  839985.000000  839985.000000   \n",
       "mean   2.010011e+11      10.011129       6.679437      15.594687   \n",
       "std    3.458059e+08       3.458059       3.389489       8.750201   \n",
       "min    2.005000e+11       5.000000       1.000000       1.000000   \n",
       "25%    2.007000e+11       7.000000       4.000000       8.000000   \n",
       "50%    2.010000e+11      10.000000       7.000000      15.000000   \n",
       "75%    2.013000e+11      13.000000      10.000000      23.000000   \n",
       "max    2.016000e+11      16.000000      12.000000      31.000000   \n",
       "\n",
       "                hrmn            lum            agg            int  \\\n",
       "count  839985.000000  839985.000000  839985.000000  839985.000000   \n",
       "mean     1381.093505       1.912588       1.685924       1.694066   \n",
       "std       540.757462       1.517900       0.464147       1.510792   \n",
       "min         1.000000       1.000000       1.000000       0.000000   \n",
       "25%      1000.000000       1.000000       1.000000       1.000000   \n",
       "50%      1446.000000       1.000000       2.000000       1.000000   \n",
       "75%      1810.000000       3.000000       2.000000       2.000000   \n",
       "max      2359.000000       5.000000       2.000000       9.000000   \n",
       "\n",
       "                 atm            col            com           lat  \\\n",
       "count  839930.000000  839974.000000  839983.000000  3.624710e+05   \n",
       "mean        1.547116       4.187484     186.510172  2.849715e+06   \n",
       "std         1.587668       1.974998     171.873105  2.284591e+06   \n",
       "min         1.000000       1.000000       0.000000  0.000000e+00   \n",
       "25%         1.000000       3.000000      55.000000  0.000000e+00   \n",
       "50%         1.000000       3.000000     118.000000  4.370200e+06   \n",
       "75%         1.000000       6.000000     278.000000  4.799218e+06   \n",
       "max         9.000000       7.000000     987.000000  5.564823e+06   \n",
       "\n",
       "                 dep  \n",
       "count  839985.000000  \n",
       "mean      564.257671  \n",
       "std       291.153083  \n",
       "min        10.000000  \n",
       "25%       310.000000  \n",
       "50%       630.000000  \n",
       "75%       780.000000  \n",
       "max       976.000000  "
      ]
     },
     "execution_count": 76,
     "metadata": {},
     "output_type": "execute_result"
    }
   ],
   "source": [
    "caracteristics_df.describe()\n"
   ]
  },
  {
   "cell_type": "code",
   "execution_count": 77,
   "metadata": {},
   "outputs": [
    {
     "data": {
      "text/html": [
       "<div>\n",
       "<style scoped>\n",
       "    .dataframe tbody tr th:only-of-type {\n",
       "        vertical-align: middle;\n",
       "    }\n",
       "\n",
       "    .dataframe tbody tr th {\n",
       "        vertical-align: top;\n",
       "    }\n",
       "\n",
       "    .dataframe thead th {\n",
       "        text-align: right;\n",
       "    }\n",
       "</style>\n",
       "<table border=\"1\" class=\"dataframe\">\n",
       "  <thead>\n",
       "    <tr style=\"text-align: right;\">\n",
       "      <th></th>\n",
       "      <th>Num_Acc</th>\n",
       "      <th>mois</th>\n",
       "      <th>jour</th>\n",
       "      <th>hrmn</th>\n",
       "      <th>lum</th>\n",
       "      <th>agg</th>\n",
       "      <th>int</th>\n",
       "      <th>atm</th>\n",
       "      <th>dep</th>\n",
       "    </tr>\n",
       "  </thead>\n",
       "  <tbody>\n",
       "    <tr>\n",
       "      <th>count</th>\n",
       "      <td>8.399850e+05</td>\n",
       "      <td>839985.000000</td>\n",
       "      <td>839985.000000</td>\n",
       "      <td>839985.000000</td>\n",
       "      <td>839985.000000</td>\n",
       "      <td>839985.000000</td>\n",
       "      <td>839985.000000</td>\n",
       "      <td>839930.000000</td>\n",
       "      <td>839985.000000</td>\n",
       "    </tr>\n",
       "    <tr>\n",
       "      <th>mean</th>\n",
       "      <td>2.010011e+11</td>\n",
       "      <td>6.679437</td>\n",
       "      <td>15.594687</td>\n",
       "      <td>1381.093505</td>\n",
       "      <td>1.912588</td>\n",
       "      <td>1.685924</td>\n",
       "      <td>1.694066</td>\n",
       "      <td>1.547116</td>\n",
       "      <td>564.257671</td>\n",
       "    </tr>\n",
       "    <tr>\n",
       "      <th>std</th>\n",
       "      <td>3.458059e+08</td>\n",
       "      <td>3.389489</td>\n",
       "      <td>8.750201</td>\n",
       "      <td>540.757462</td>\n",
       "      <td>1.517900</td>\n",
       "      <td>0.464147</td>\n",
       "      <td>1.510792</td>\n",
       "      <td>1.587668</td>\n",
       "      <td>291.153083</td>\n",
       "    </tr>\n",
       "    <tr>\n",
       "      <th>min</th>\n",
       "      <td>2.005000e+11</td>\n",
       "      <td>1.000000</td>\n",
       "      <td>1.000000</td>\n",
       "      <td>1.000000</td>\n",
       "      <td>1.000000</td>\n",
       "      <td>1.000000</td>\n",
       "      <td>0.000000</td>\n",
       "      <td>1.000000</td>\n",
       "      <td>10.000000</td>\n",
       "    </tr>\n",
       "    <tr>\n",
       "      <th>25%</th>\n",
       "      <td>2.007000e+11</td>\n",
       "      <td>4.000000</td>\n",
       "      <td>8.000000</td>\n",
       "      <td>1000.000000</td>\n",
       "      <td>1.000000</td>\n",
       "      <td>1.000000</td>\n",
       "      <td>1.000000</td>\n",
       "      <td>1.000000</td>\n",
       "      <td>310.000000</td>\n",
       "    </tr>\n",
       "    <tr>\n",
       "      <th>50%</th>\n",
       "      <td>2.010000e+11</td>\n",
       "      <td>7.000000</td>\n",
       "      <td>15.000000</td>\n",
       "      <td>1446.000000</td>\n",
       "      <td>1.000000</td>\n",
       "      <td>2.000000</td>\n",
       "      <td>1.000000</td>\n",
       "      <td>1.000000</td>\n",
       "      <td>630.000000</td>\n",
       "    </tr>\n",
       "    <tr>\n",
       "      <th>75%</th>\n",
       "      <td>2.013000e+11</td>\n",
       "      <td>10.000000</td>\n",
       "      <td>23.000000</td>\n",
       "      <td>1810.000000</td>\n",
       "      <td>3.000000</td>\n",
       "      <td>2.000000</td>\n",
       "      <td>2.000000</td>\n",
       "      <td>1.000000</td>\n",
       "      <td>780.000000</td>\n",
       "    </tr>\n",
       "    <tr>\n",
       "      <th>max</th>\n",
       "      <td>2.016000e+11</td>\n",
       "      <td>12.000000</td>\n",
       "      <td>31.000000</td>\n",
       "      <td>2359.000000</td>\n",
       "      <td>5.000000</td>\n",
       "      <td>2.000000</td>\n",
       "      <td>9.000000</td>\n",
       "      <td>9.000000</td>\n",
       "      <td>976.000000</td>\n",
       "    </tr>\n",
       "  </tbody>\n",
       "</table>\n",
       "</div>"
      ],
      "text/plain": [
       "            Num_Acc           mois           jour           hrmn  \\\n",
       "count  8.399850e+05  839985.000000  839985.000000  839985.000000   \n",
       "mean   2.010011e+11       6.679437      15.594687    1381.093505   \n",
       "std    3.458059e+08       3.389489       8.750201     540.757462   \n",
       "min    2.005000e+11       1.000000       1.000000       1.000000   \n",
       "25%    2.007000e+11       4.000000       8.000000    1000.000000   \n",
       "50%    2.010000e+11       7.000000      15.000000    1446.000000   \n",
       "75%    2.013000e+11      10.000000      23.000000    1810.000000   \n",
       "max    2.016000e+11      12.000000      31.000000    2359.000000   \n",
       "\n",
       "                 lum            agg            int            atm  \\\n",
       "count  839985.000000  839985.000000  839985.000000  839930.000000   \n",
       "mean        1.912588       1.685924       1.694066       1.547116   \n",
       "std         1.517900       0.464147       1.510792       1.587668   \n",
       "min         1.000000       1.000000       0.000000       1.000000   \n",
       "25%         1.000000       1.000000       1.000000       1.000000   \n",
       "50%         1.000000       2.000000       1.000000       1.000000   \n",
       "75%         3.000000       2.000000       2.000000       1.000000   \n",
       "max         5.000000       2.000000       9.000000       9.000000   \n",
       "\n",
       "                 dep  \n",
       "count  839985.000000  \n",
       "mean      564.257671  \n",
       "std       291.153083  \n",
       "min        10.000000  \n",
       "25%       310.000000  \n",
       "50%       630.000000  \n",
       "75%       780.000000  \n",
       "max       976.000000  "
      ]
     },
     "execution_count": 77,
     "metadata": {},
     "output_type": "execute_result"
    }
   ],
   "source": [
    "caracteristics_df = caracteristics_df.drop([\"an\", \"col\", \"com\", \"adr\", \"gps\", \"lat\", \"long\"], axis=1)\n",
    "\n",
    "caracteristics_df.describe()"
   ]
  },
  {
   "cell_type": "code",
   "execution_count": 78,
   "metadata": {},
   "outputs": [
    {
     "name": "stdout",
     "output_type": "stream",
     "text": [
      "<class 'pandas.core.frame.DataFrame'>\n",
      "RangeIndex: 839985 entries, 0 to 839984\n",
      "Data columns (total 9 columns):\n",
      " #   Column   Non-Null Count   Dtype  \n",
      "---  ------   --------------   -----  \n",
      " 0   Num_Acc  839985 non-null  float64\n",
      " 1   mois     839985 non-null  int64  \n",
      " 2   jour     839985 non-null  int64  \n",
      " 3   hrmn     839985 non-null  int64  \n",
      " 4   lum      839985 non-null  int64  \n",
      " 5   agg      839985 non-null  int64  \n",
      " 6   int      839985 non-null  int64  \n",
      " 7   atm      839930 non-null  float64\n",
      " 8   dep      839985 non-null  int64  \n",
      "dtypes: float64(2), int64(7)\n",
      "memory usage: 57.7 MB\n"
     ]
    }
   ],
   "source": [
    "caracteristics_df.info()\n"
   ]
  },
  {
   "cell_type": "code",
   "execution_count": 79,
   "metadata": {},
   "outputs": [
    {
     "data": {
      "text/plain": [
       "55"
      ]
     },
     "execution_count": 79,
     "metadata": {},
     "output_type": "execute_result"
    }
   ],
   "source": [
    "caracteristics_df[\"atm\"].isna().sum()\n"
   ]
  },
  {
   "cell_type": "code",
   "execution_count": 80,
   "metadata": {},
   "outputs": [],
   "source": [
    "caracteristics_df[\"atm\"] = caracteristics_df[\"atm\"].fillna(1)\n"
   ]
  },
  {
   "cell_type": "code",
   "execution_count": 81,
   "metadata": {},
   "outputs": [],
   "source": [
    "caracteristics_df[\"atm\"] = caracteristics_df[\"atm\"].astype(int)\n"
   ]
  },
  {
   "cell_type": "code",
   "execution_count": 82,
   "metadata": {},
   "outputs": [
    {
     "data": {
      "text/plain": [
       "106"
      ]
     },
     "execution_count": 82,
     "metadata": {},
     "output_type": "execute_result"
    }
   ],
   "source": [
    "(caracteristics_df[\"int\"] == 0).sum()\n"
   ]
  },
  {
   "cell_type": "code",
   "execution_count": 83,
   "metadata": {},
   "outputs": [],
   "source": [
    "caracteristics_df[\"int\"] = caracteristics_df[\"int\"].replace(0,1)\n"
   ]
  },
  {
   "cell_type": "code",
   "execution_count": 84,
   "metadata": {},
   "outputs": [],
   "source": [
    "caracteristics_df[\"hrmn\"] = caracteristics_df[\"hrmn\"].div(100).apply(np.floor)\n"
   ]
  },
  {
   "cell_type": "code",
   "execution_count": 85,
   "metadata": {},
   "outputs": [],
   "source": [
    "caracteristics_df[\"hrmn\"] = caracteristics_df[\"hrmn\"].astype(int)\n"
   ]
  },
  {
   "cell_type": "code",
   "execution_count": 86,
   "metadata": {},
   "outputs": [
    {
     "data": {
      "text/plain": [
       "<AxesSubplot:>"
      ]
     },
     "execution_count": 86,
     "metadata": {},
     "output_type": "execute_result"
    },
    {
     "data": {
      "image/png": "[encoded data removed]",
      "text/plain": [
       "<Figure size 432x288 with 1 Axes>"
      ]
     },
     "metadata": {
      "needs_background": "light"
     },
     "output_type": "display_data"
    }
   ],
   "source": [
    "caracteristics_df[\"hrmn\"].hist()\n"
   ]
  },
  {
   "cell_type": "code",
   "execution_count": 87,
   "metadata": {},
   "outputs": [],
   "source": [
    "caracteristics_df[\"dep\"] = caracteristics_df[\"dep\"].div(10).apply(np.floor)\n"
   ]
  },
  {
   "cell_type": "code",
   "execution_count": 88,
   "metadata": {},
   "outputs": [],
   "source": [
    "caracteristics_df[\"dep\"] = caracteristics_df[\"dep\"].astype(int)\n"
   ]
  },
  {
   "cell_type": "code",
   "execution_count": 91,
   "metadata": {},
   "outputs": [
    {
     "name": "stdout",
     "output_type": "stream",
     "text": [
      "<class 'pandas.core.frame.DataFrame'>\n",
      "RangeIndex: 839985 entries, 0 to 839984\n",
      "Data columns (total 9 columns):\n",
      " #   Column   Non-Null Count   Dtype  \n",
      "---  ------   --------------   -----  \n",
      " 0   Num_Acc  839985 non-null  float64\n",
      " 1   mois     839985 non-null  int64  \n",
      " 2   jour     839985 non-null  int64  \n",
      " 3   hrmn     839985 non-null  int32  \n",
      " 4   lum      839985 non-null  int64  \n",
      " 5   agg      839985 non-null  int64  \n",
      " 6   int      839985 non-null  int64  \n",
      " 7   atm      839985 non-null  int32  \n",
      " 8   dep      839985 non-null  int32  \n",
      "dtypes: float64(1), int32(3), int64(5)\n",
      "memory usage: 48.1 MB\n"
     ]
    }
   ],
   "source": [
    "caracteristics_df.info()\n"
   ]
  },
  {
   "cell_type": "code",
   "execution_count": 92,
   "metadata": {},
   "outputs": [
    {
     "data": {
      "text/html": [
       "<div>\n",
       "<style scoped>\n",
       "    .dataframe tbody tr th:only-of-type {\n",
       "        vertical-align: middle;\n",
       "    }\n",
       "\n",
       "    .dataframe tbody tr th {\n",
       "        vertical-align: top;\n",
       "    }\n",
       "\n",
       "    .dataframe thead th {\n",
       "        text-align: right;\n",
       "    }\n",
       "</style>\n",
       "<table border=\"1\" class=\"dataframe\">\n",
       "  <thead>\n",
       "    <tr style=\"text-align: right;\">\n",
       "      <th></th>\n",
       "      <th>Num_Acc</th>\n",
       "      <th>mois</th>\n",
       "      <th>jour</th>\n",
       "      <th>hrmn</th>\n",
       "      <th>lum</th>\n",
       "      <th>agg</th>\n",
       "      <th>int</th>\n",
       "      <th>atm</th>\n",
       "      <th>dep</th>\n",
       "    </tr>\n",
       "  </thead>\n",
       "  <tbody>\n",
       "    <tr>\n",
       "      <th>count</th>\n",
       "      <td>8.399850e+05</td>\n",
       "      <td>839985.000000</td>\n",
       "      <td>839985.000000</td>\n",
       "      <td>839985.000000</td>\n",
       "      <td>839985.000000</td>\n",
       "      <td>839985.000000</td>\n",
       "      <td>839985.000000</td>\n",
       "      <td>839985.000000</td>\n",
       "      <td>839985.000000</td>\n",
       "    </tr>\n",
       "    <tr>\n",
       "      <th>mean</th>\n",
       "      <td>2.010011e+11</td>\n",
       "      <td>6.679437</td>\n",
       "      <td>15.594687</td>\n",
       "      <td>13.559365</td>\n",
       "      <td>1.912588</td>\n",
       "      <td>1.685924</td>\n",
       "      <td>1.694192</td>\n",
       "      <td>1.547080</td>\n",
       "      <td>56.416155</td>\n",
       "    </tr>\n",
       "    <tr>\n",
       "      <th>std</th>\n",
       "      <td>3.458059e+08</td>\n",
       "      <td>3.389489</td>\n",
       "      <td>8.750201</td>\n",
       "      <td>5.411096</td>\n",
       "      <td>1.517900</td>\n",
       "      <td>0.464147</td>\n",
       "      <td>1.510692</td>\n",
       "      <td>1.587622</td>\n",
       "      <td>29.105356</td>\n",
       "    </tr>\n",
       "    <tr>\n",
       "      <th>min</th>\n",
       "      <td>2.005000e+11</td>\n",
       "      <td>1.000000</td>\n",
       "      <td>1.000000</td>\n",
       "      <td>0.000000</td>\n",
       "      <td>1.000000</td>\n",
       "      <td>1.000000</td>\n",
       "      <td>1.000000</td>\n",
       "      <td>1.000000</td>\n",
       "      <td>1.000000</td>\n",
       "    </tr>\n",
       "    <tr>\n",
       "      <th>25%</th>\n",
       "      <td>2.007000e+11</td>\n",
       "      <td>4.000000</td>\n",
       "      <td>8.000000</td>\n",
       "      <td>10.000000</td>\n",
       "      <td>1.000000</td>\n",
       "      <td>1.000000</td>\n",
       "      <td>1.000000</td>\n",
       "      <td>1.000000</td>\n",
       "      <td>31.000000</td>\n",
       "    </tr>\n",
       "    <tr>\n",
       "      <th>50%</th>\n",
       "      <td>2.010000e+11</td>\n",
       "      <td>7.000000</td>\n",
       "      <td>15.000000</td>\n",
       "      <td>14.000000</td>\n",
       "      <td>1.000000</td>\n",
       "      <td>2.000000</td>\n",
       "      <td>1.000000</td>\n",
       "      <td>1.000000</td>\n",
       "      <td>63.000000</td>\n",
       "    </tr>\n",
       "    <tr>\n",
       "      <th>75%</th>\n",
       "      <td>2.013000e+11</td>\n",
       "      <td>10.000000</td>\n",
       "      <td>23.000000</td>\n",
       "      <td>18.000000</td>\n",
       "      <td>3.000000</td>\n",
       "      <td>2.000000</td>\n",
       "      <td>2.000000</td>\n",
       "      <td>1.000000</td>\n",
       "      <td>78.000000</td>\n",
       "    </tr>\n",
       "    <tr>\n",
       "      <th>max</th>\n",
       "      <td>2.016000e+11</td>\n",
       "      <td>12.000000</td>\n",
       "      <td>31.000000</td>\n",
       "      <td>23.000000</td>\n",
       "      <td>5.000000</td>\n",
       "      <td>2.000000</td>\n",
       "      <td>9.000000</td>\n",
       "      <td>9.000000</td>\n",
       "      <td>97.000000</td>\n",
       "    </tr>\n",
       "  </tbody>\n",
       "</table>\n",
       "</div>"
      ],
      "text/plain": [
       "            Num_Acc           mois           jour           hrmn  \\\n",
       "count  8.399850e+05  839985.000000  839985.000000  839985.000000   \n",
       "mean   2.010011e+11       6.679437      15.594687      13.559365   \n",
       "std    3.458059e+08       3.389489       8.750201       5.411096   \n",
       "min    2.005000e+11       1.000000       1.000000       0.000000   \n",
       "25%    2.007000e+11       4.000000       8.000000      10.000000   \n",
       "50%    2.010000e+11       7.000000      15.000000      14.000000   \n",
       "75%    2.013000e+11      10.000000      23.000000      18.000000   \n",
       "max    2.016000e+11      12.000000      31.000000      23.000000   \n",
       "\n",
       "                 lum            agg            int            atm  \\\n",
       "count  839985.000000  839985.000000  839985.000000  839985.000000   \n",
       "mean        1.912588       1.685924       1.694192       1.547080   \n",
       "std         1.517900       0.464147       1.510692       1.587622   \n",
       "min         1.000000       1.000000       1.000000       1.000000   \n",
       "25%         1.000000       1.000000       1.000000       1.000000   \n",
       "50%         1.000000       2.000000       1.000000       1.000000   \n",
       "75%         3.000000       2.000000       2.000000       1.000000   \n",
       "max         5.000000       2.000000       9.000000       9.000000   \n",
       "\n",
       "                 dep  \n",
       "count  839985.000000  \n",
       "mean       56.416155  \n",
       "std        29.105356  \n",
       "min         1.000000  \n",
       "25%        31.000000  \n",
       "50%        63.000000  \n",
       "75%        78.000000  \n",
       "max        97.000000  "
      ]
     },
     "execution_count": 92,
     "metadata": {},
     "output_type": "execute_result"
    }
   ],
   "source": [
    "caracteristics_df.describe()\n"
   ]
  },
  {
   "cell_type": "code",
   "execution_count": null,
   "metadata": {},
   "outputs": [],
   "source": []
  }
 ],
 "metadata": {
  "kernelspec": {
   "display_name": "Python 3",
   "language": "python",
   "name": "python3"
  },
  "language_info": {
   "codemirror_mode": {
    "name": "ipython",
    "version": 3
   },
   "file_extension": ".py",
   "mimetype": "text/x-python",
   "name": "python",
   "nbconvert_exporter": "python",
   "pygments_lexer": "ipython3",
   "version": "3.8.5"
  }
 },
 "nbformat": 4,
 "nbformat_minor": 4
}
